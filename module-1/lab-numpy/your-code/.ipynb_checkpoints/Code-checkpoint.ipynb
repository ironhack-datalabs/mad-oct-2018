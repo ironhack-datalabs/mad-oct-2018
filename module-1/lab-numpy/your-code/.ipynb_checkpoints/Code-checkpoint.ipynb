{
 "cells": [
  {
   "cell_type": "code",
   "execution_count": 5,
   "metadata": {},
   "outputs": [],
   "source": [
    "#1. Import the NUMPY package under the name np.\n",
    "import numpy as np"
   ]
  },
  {
   "cell_type": "code",
   "execution_count": 6,
   "metadata": {},
   "outputs": [
    {
     "name": "stdout",
     "output_type": "stream",
     "text": [
      "1.15.2\n"
     ]
    }
   ],
   "source": [
    "#2. Print the NUMPY version and the configuration.\n",
    "print(np.version.version) "
   ]
  },
  {
   "cell_type": "code",
   "execution_count": 35,
   "metadata": {},
   "outputs": [
    {
     "name": "stdout",
     "output_type": "stream",
     "text": [
      "[[[0.49432597 0.33933949 0.48115248 0.29323061 0.85451859]\n",
      "  [0.29669582 0.57167282 0.90650097 0.47025012 0.13400812]\n",
      "  [0.74390501 0.3676328  0.13196446 0.8352177  0.49675397]]\n",
      "\n",
      " [[0.88723795 0.2365484  0.16386569 0.4928024  0.07904439]\n",
      "  [0.62571099 0.44512095 0.92761494 0.93270651 0.23938251]\n",
      "  [0.60278881 0.53339143 0.81890682 0.11308907 0.40798988]]]\n",
      "(2, 3, 5)\n"
     ]
    }
   ],
   "source": [
    "\"\"\"\n",
    "#3. Generate a 2x3x5 3-dimensional array with random values. \n",
    "   Assign the array to variable \"a\"\n",
    "   Challenge: there are at least three easy ways that use numpy to generate random arrays. \n",
    "   How many ways can you find?\n",
    "#4. Print a.\n",
    "\"\"\"\n",
    "\n",
    "a = np.random.random((2,3,5))\n",
    "print(a)\n",
    "print(a.shape)"
   ]
  },
  {
   "cell_type": "code",
   "execution_count": 37,
   "metadata": {},
   "outputs": [
    {
     "name": "stdout",
     "output_type": "stream",
     "text": [
      "[[[1 1 1]\n",
      "  [1 1 1]]\n",
      "\n",
      " [[1 1 1]\n",
      "  [1 1 1]]\n",
      "\n",
      " [[1 1 1]\n",
      "  [1 1 1]]\n",
      "\n",
      " [[1 1 1]\n",
      "  [1 1 1]]\n",
      "\n",
      " [[1 1 1]\n",
      "  [1 1 1]]]\n",
      "(5, 2, 3)\n"
     ]
    }
   ],
   "source": [
    "\"\"\"\n",
    "#5. Create a 5x2x3 3-dimensional array with all values equaling 1.\n",
    "   Assign the array to variable \"b\"\n",
    "\n",
    "#6. Print b.\n",
    "\"\"\"\n",
    "\n",
    "lst = [[(1,1,1),(1,1,1)],[(1,1,1),(1,1,1)],[(1,1,1),(1,1,1)],[(1,1,1),(1,1,1)],[(1,1,1),(1,1,1)]]\n",
    "b = np.array(lst)\n",
    "print(b)\n",
    "print(b.shape)"
   ]
  },
  {
   "cell_type": "code",
   "execution_count": 30,
   "metadata": {},
   "outputs": [
    {
     "name": "stdout",
     "output_type": "stream",
     "text": [
      "[[[2 3 4]\n",
      "  [2 3 4]]\n",
      "\n",
      " [[2 3 4]\n",
      "  [2 3 4]]]\n",
      "(2, 2, 3)\n"
     ]
    }
   ],
   "source": [
    "lst_lst1 = [[(2,3,4),(2,3,4)],[(2,3,4),(2,3,4)]]\n",
    "c = np.array(lst_lst1)\n",
    "print(c)\n",
    "print(c.shape)"
   ]
  },
  {
   "cell_type": "code",
   "execution_count": 38,
   "metadata": {},
   "outputs": [
    {
     "name": "stdout",
     "output_type": "stream",
     "text": [
      "[[(1, 1, 1), (1, 1, 1)], [(1, 1, 1), (1, 1, 1)], [(1, 1, 1), (1, 1, 1)], [(1, 1, 1), (1, 1, 1)], [(1, 1, 1), (1, 1, 1)]]\n"
     ]
    }
   ],
   "source": [
    "lst = [[(1,1,1),(1,1,1)],[(1,1,1),(1,1,1)],[(1,1,1),(1,1,1)],[(1,1,1),(1,1,1)],[(1,1,1),(1,1,1)]]\n",
    "print(lst)"
   ]
  },
  {
   "cell_type": "code",
   "execution_count": 41,
   "metadata": {},
   "outputs": [
    {
     "name": "stdout",
     "output_type": "stream",
     "text": [
      "30\n",
      "30\n",
      "(2, 3, 5)\n",
      "(5, 2, 3)\n"
     ]
    }
   ],
   "source": [
    "#7. Do a and b have the same size? How do you prove that in Python code?\n",
    "print(a.size)\n",
    "print(b.size)\n",
    "\n",
    "print(a.shape)\n",
    "print(b.shape)"
   ]
  },
  {
   "cell_type": "code",
   "execution_count": 61,
   "metadata": {},
   "outputs": [],
   "source": [
    "#8. Are you able to add a and b? Why or why not?\n",
    "#  print(np.add(a, b))"
   ]
  },
  {
   "cell_type": "code",
   "execution_count": 77,
   "metadata": {},
   "outputs": [
    {
     "name": "stdout",
     "output_type": "stream",
     "text": [
      "[[[1 1 1 1 1]\n",
      "  [1 1 1 1 1]\n",
      "  [1 1 1 1 1]]\n",
      "\n",
      " [[1 1 1 1 1]\n",
      "  [1 1 1 1 1]\n",
      "  [1 1 1 1 1]]]\n",
      "(2, 3, 5)\n"
     ]
    }
   ],
   "source": [
    "#9. Transpose b so that it has the same structure of a (i.e. become a 2x3x5 array). Assign the transposed array to varialbe \"c\".\n",
    "c = np.transpose(b,(1,2,0))\n",
    "print(c)\n",
    "print(c.shape)"
   ]
  },
  {
   "cell_type": "code",
   "execution_count": 73,
   "metadata": {},
   "outputs": [
    {
     "name": "stdout",
     "output_type": "stream",
     "text": [
      "[[[1 1 1 1 1]\n",
      "  [1 1 1 1 1]]\n",
      "\n",
      " [[1 1 1 1 1]\n",
      "  [1 1 1 1 1]]\n",
      "\n",
      " [[1 1 1 1 1]\n",
      "  [1 1 1 1 1]]]\n",
      "(3, 2, 5)\n",
      "[[[1 1 1 1 1]\n",
      "  [1 1 1 1 1]\n",
      "  [1 1 1 1 1]]\n",
      "\n",
      " [[1 1 1 1 1]\n",
      "  [1 1 1 1 1]\n",
      "  [1 1 1 1 1]]]\n",
      "(2, 3, 5)\n"
     ]
    }
   ],
   "source": [
    "#attempt1 \n",
    "ccc = np.transpose(b)\n",
    "print(ccc)\n",
    "print(ccc.shape)\n",
    "\n",
    "cc = np.moveaxis(ccc, 0, 1)\n",
    "print(cc)\n",
    "print(cc.shape)"
   ]
  },
  {
   "cell_type": "code",
   "execution_count": 74,
   "metadata": {},
   "outputs": [
    {
     "name": "stdout",
     "output_type": "stream",
     "text": [
      "[[[1 1 1 1 1]\n",
      "  [1 1 1 1 1]\n",
      "  [1 1 1 1 1]]\n",
      "\n",
      " [[1 1 1 1 1]\n",
      "  [1 1 1 1 1]\n",
      "  [1 1 1 1 1]]]\n",
      "(2, 3, 5)\n"
     ]
    }
   ],
   "source": [
    "#attempt2 \n",
    "cccc = np.moveaxis(b, 0, -1)\n",
    "print(cccc)\n",
    "print(cccc.shape)"
   ]
  },
  {
   "cell_type": "code",
   "execution_count": 79,
   "metadata": {},
   "outputs": [
    {
     "name": "stdout",
     "output_type": "stream",
     "text": [
      "[[[1.49432597 1.33933949 1.48115248 1.29323061 1.85451859]\n",
      "  [1.29669582 1.57167282 1.90650097 1.47025012 1.13400812]\n",
      "  [1.74390501 1.3676328  1.13196446 1.8352177  1.49675397]]\n",
      "\n",
      " [[1.88723795 1.2365484  1.16386569 1.4928024  1.07904439]\n",
      "  [1.62571099 1.44512095 1.92761494 1.93270651 1.23938251]\n",
      "  [1.60278881 1.53339143 1.81890682 1.11308907 1.40798988]]]\n"
     ]
    }
   ],
   "source": [
    "#10. Try to add a and c. Now it should work. Assign the sum to varialbe \"d\". But why does it work now?\n",
    "d = np.add(a, c)\n",
    "print(d)"
   ]
  },
  {
   "cell_type": "code",
   "execution_count": 80,
   "metadata": {},
   "outputs": [
    {
     "name": "stdout",
     "output_type": "stream",
     "text": [
      "[[[0.49432597 0.33933949 0.48115248 0.29323061 0.85451859]\n",
      "  [0.29669582 0.57167282 0.90650097 0.47025012 0.13400812]\n",
      "  [0.74390501 0.3676328  0.13196446 0.8352177  0.49675397]]\n",
      "\n",
      " [[0.88723795 0.2365484  0.16386569 0.4928024  0.07904439]\n",
      "  [0.62571099 0.44512095 0.92761494 0.93270651 0.23938251]\n",
      "  [0.60278881 0.53339143 0.81890682 0.11308907 0.40798988]]]\n",
      "[[[1.49432597 1.33933949 1.48115248 1.29323061 1.85451859]\n",
      "  [1.29669582 1.57167282 1.90650097 1.47025012 1.13400812]\n",
      "  [1.74390501 1.3676328  1.13196446 1.8352177  1.49675397]]\n",
      "\n",
      " [[1.88723795 1.2365484  1.16386569 1.4928024  1.07904439]\n",
      "  [1.62571099 1.44512095 1.92761494 1.93270651 1.23938251]\n",
      "  [1.60278881 1.53339143 1.81890682 1.11308907 1.40798988]]]\n"
     ]
    }
   ],
   "source": [
    "#11. Print a and d. Notice the difference and relation of the two array in terms of the values? Explain.\n",
    "print(a)\n",
    "print(d)"
   ]
  },
  {
   "cell_type": "code",
   "execution_count": 88,
   "metadata": {},
   "outputs": [
    {
     "name": "stdout",
     "output_type": "stream",
     "text": [
      "[[[0.49432597 0.33933949 0.48115248 0.29323061 0.85451859]\n",
      "  [0.29669582 0.57167282 0.90650097 0.47025012 0.13400812]\n",
      "  [0.74390501 0.3676328  0.13196446 0.8352177  0.49675397]]\n",
      "\n",
      " [[0.88723795 0.2365484  0.16386569 0.4928024  0.07904439]\n",
      "  [0.62571099 0.44512095 0.92761494 0.93270651 0.23938251]\n",
      "  [0.60278881 0.53339143 0.81890682 0.11308907 0.40798988]]]\n",
      "(2, 3, 5)\n"
     ]
    }
   ],
   "source": [
    "#12. Multiply a and c. Assign the result to e.\n",
    "e = np.multiply(a,c)\n",
    "print(e)\n",
    "print(e.shape)"
   ]
  },
  {
   "cell_type": "code",
   "execution_count": 84,
   "metadata": {},
   "outputs": [
    {
     "name": "stdout",
     "output_type": "stream",
     "text": [
      "[[[0.49432597 0.33933949 0.48115248 0.29323061 0.85451859]\n",
      "  [0.29669582 0.57167282 0.90650097 0.47025012 0.13400812]\n",
      "  [0.74390501 0.3676328  0.13196446 0.8352177  0.49675397]]\n",
      "\n",
      " [[0.88723795 0.2365484  0.16386569 0.4928024  0.07904439]\n",
      "  [0.62571099 0.44512095 0.92761494 0.93270651 0.23938251]\n",
      "  [0.60278881 0.53339143 0.81890682 0.11308907 0.40798988]]]\n",
      "[[[0.49432597 0.33933949 0.48115248 0.29323061 0.85451859]\n",
      "  [0.29669582 0.57167282 0.90650097 0.47025012 0.13400812]\n",
      "  [0.74390501 0.3676328  0.13196446 0.8352177  0.49675397]]\n",
      "\n",
      " [[0.88723795 0.2365484  0.16386569 0.4928024  0.07904439]\n",
      "  [0.62571099 0.44512095 0.92761494 0.93270651 0.23938251]\n",
      "  [0.60278881 0.53339143 0.81890682 0.11308907 0.40798988]]]\n"
     ]
    },
    {
     "data": {
      "text/plain": [
       "array([[[ True,  True,  True,  True,  True],\n",
       "        [ True,  True,  True,  True,  True],\n",
       "        [ True,  True,  True,  True,  True]],\n",
       "\n",
       "       [[ True,  True,  True,  True,  True],\n",
       "        [ True,  True,  True,  True,  True],\n",
       "        [ True,  True,  True,  True,  True]]])"
      ]
     },
     "execution_count": 84,
     "metadata": {},
     "output_type": "execute_result"
    }
   ],
   "source": [
    "#13. Does e equal to a? Why or why not?\n",
    "print(e)\n",
    "print(a)\n",
    "e == a"
   ]
  },
  {
   "cell_type": "code",
   "execution_count": 105,
   "metadata": {},
   "outputs": [
    {
     "name": "stdout",
     "output_type": "stream",
     "text": [
      "1.9327065091238562\n",
      "1.0790443889150594\n",
      "1.4974456561478349\n"
     ]
    }
   ],
   "source": [
    "#14. Identify the max, min, and mean values in d. Assign those values to variables \"d_max\", \"d_min\", and \"d_mean\"\n",
    "d_max = np.max(d)\n",
    "d_min = np.min(d)\n",
    "d_mean = np.mean(d)\n",
    "\n",
    "print(d_max) \n",
    "print(d_min)\n",
    "print(d_mean)"
   ]
  },
  {
   "cell_type": "code",
   "execution_count": 146,
   "metadata": {},
   "outputs": [
    {
     "name": "stdout",
     "output_type": "stream",
     "text": [
      "[[[0.49432597 0.33933949 0.48115248 0.29323061 0.85451859]\n",
      "  [0.29669582 0.57167282 0.90650097 0.47025012 0.13400812]\n",
      "  [0.74390501 0.3676328  0.13196446 0.8352177  0.49675397]]\n",
      "\n",
      " [[0.88723795 0.2365484  0.16386569 0.4928024  0.07904439]\n",
      "  [0.62571099 0.44512095 0.92761494 0.93270651 0.23938251]\n",
      "  [0.60278881 0.53339143 0.81890682 0.11308907 0.40798988]]]\n"
     ]
    }
   ],
   "source": [
    "#15. Now we want to label the values in d. First create an empty array \"f\" with the same shape (i.e. 2x3x5) as d using `np.empty`.\n",
    "f = np.empty([2,3,5])\n",
    "print(f)"
   ]
  },
  {
   "cell_type": "code",
   "execution_count": 158,
   "metadata": {},
   "outputs": [
    {
     "name": "stdout",
     "output_type": "stream",
     "text": [
      "[[[1.49432597 1.33933949 1.48115248 1.29323061 1.85451859]\n",
      "  [1.29669582 1.57167282 1.90650097 1.47025012 1.13400812]\n",
      "  [1.74390501 1.3676328  1.13196446 1.8352177  1.49675397]]\n",
      "\n",
      " [[1.88723795 1.2365484  1.16386569 1.4928024  1.07904439]\n",
      "  [1.62571099 1.44512095 1.92761494 1.93270651 1.23938251]\n",
      "  [1.60278881 1.53339143 1.81890682 1.11308907 1.40798988]]]\n",
      "[[[ 25.  25.  25.  25.  75.]\n",
      "  [ 25.  75.  75.  25.  25.]\n",
      "  [ 75.  25.  25.  75.  25.]]\n",
      "\n",
      " [[ 75.  25.  25.  25.   0.]\n",
      "  [ 75.  25.  75. 100.  25.]\n",
      "  [ 75.  75.  75.  25.  25.]]]\n"
     ]
    }
   ],
   "source": [
    "for a0, block in enumerate(d):\n",
    "     for a1, line in enumerate(block):\n",
    "         for a2, column in enumerate (line):\n",
    "             if d[a0,a1,a2] == d_mean:\n",
    "                    f[a0,a1,a2] = 50\n",
    "             if d[a0,a1,a2] == d_max:\n",
    "                    f[a0,a1,a2] = 100\n",
    "             if d[a0,a1,a2] == d_min:\n",
    "                    f[a0,a1,a2] = 0\n",
    "             if (d[a0,a1,a2] > d_min) and (d[a0,a1,a2] < d_mean):\n",
    "                    f[a0,a1,a2] = 25\n",
    "             if (d[a0,a1,a2] > d_mean) and (d[a0,a1,a2] < d_max):\n",
    "                    f[a0,a1,a2] = 75"
   ]
  },
  {
   "cell_type": "code",
   "execution_count": 160,
   "metadata": {},
   "outputs": [
    {
     "name": "stdout",
     "output_type": "stream",
     "text": [
      "[[[1.49432597 1.33933949 1.48115248 1.29323061 1.85451859]\n",
      "  [1.29669582 1.57167282 1.90650097 1.47025012 1.13400812]\n",
      "  [1.74390501 1.3676328  1.13196446 1.8352177  1.49675397]]\n",
      "\n",
      " [[1.88723795 1.2365484  1.16386569 1.4928024  1.07904439]\n",
      "  [1.62571099 1.44512095 1.92761494 1.93270651 1.23938251]\n",
      "  [1.60278881 1.53339143 1.81890682 1.11308907 1.40798988]]]\n",
      "[[[ 25.  25.  25.  25.  75.]\n",
      "  [ 25.  75.  75.  25.  25.]\n",
      "  [ 75.  25.  25.  75.  25.]]\n",
      "\n",
      " [[ 75.  25.  25.  25.   0.]\n",
      "  [ 75.  25.  75. 100.  25.]\n",
      "  [ 75.  75.  75.  25.  25.]]]\n"
     ]
    }
   ],
   "source": [
    "#17\n",
    "print(d)\n",
    "print(f)"
   ]
  }
 ],
 "metadata": {
  "kernelspec": {
   "display_name": "Python 3",
   "language": "python",
   "name": "python3"
  },
  "language_info": {
   "codemirror_mode": {
    "name": "ipython",
    "version": 3
   },
   "file_extension": ".py",
   "mimetype": "text/x-python",
   "name": "python",
   "nbconvert_exporter": "python",
   "pygments_lexer": "ipython3",
   "version": "3.7.0"
  }
 },
 "nbformat": 4,
 "nbformat_minor": 2
}
