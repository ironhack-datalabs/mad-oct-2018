{
 "cells": [
  {
   "cell_type": "code",
   "execution_count": 4,
   "metadata": {},
   "outputs": [
    {
     "ename": "ValueError",
     "evalue": "If using all scalar values, you must pass an index",
     "output_type": "error",
     "traceback": [
      "\u001b[1;31m---------------------------------------------------------------------------\u001b[0m",
      "\u001b[1;31mValueError\u001b[0m                                Traceback (most recent call last)",
      "\u001b[1;32m<ipython-input-4-2e18ad4ab6e2>\u001b[0m in \u001b[0;36m<module>\u001b[1;34m\u001b[0m\n\u001b[0;32m      5\u001b[0m \u001b[0mresponse\u001b[0m \u001b[1;33m=\u001b[0m \u001b[0mrequests\u001b[0m\u001b[1;33m.\u001b[0m\u001b[0mget\u001b[0m\u001b[1;33m(\u001b[0m\u001b[1;34m\"https://api.github.com/repos/ironhack-datalabs/madrid-oct-2018/forks\"\u001b[0m\u001b[1;33m)\u001b[0m\u001b[1;33m\u001b[0m\u001b[0m\n\u001b[0;32m      6\u001b[0m \u001b[0mresults\u001b[0m \u001b[1;33m=\u001b[0m \u001b[0mresponse\u001b[0m\u001b[1;33m.\u001b[0m\u001b[0mjson\u001b[0m\u001b[1;33m(\u001b[0m\u001b[1;33m)\u001b[0m\u001b[1;33m\u001b[0m\u001b[0m\n\u001b[1;32m----> 7\u001b[1;33m \u001b[0mresults_df\u001b[0m \u001b[1;33m=\u001b[0m \u001b[0mpd\u001b[0m\u001b[1;33m.\u001b[0m\u001b[0mDataFrame\u001b[0m\u001b[1;33m(\u001b[0m\u001b[0mresults\u001b[0m\u001b[1;33m)\u001b[0m\u001b[1;33m\u001b[0m\u001b[0m\n\u001b[0m\u001b[0;32m      8\u001b[0m \u001b[0mresults_df\u001b[0m\u001b[1;33m\u001b[0m\u001b[0m\n",
      "\u001b[1;32mc:\\users\\pablo\\appdata\\local\\programs\\python\\python37\\lib\\site-packages\\pandas\\core\\frame.py\u001b[0m in \u001b[0;36m__init__\u001b[1;34m(self, data, index, columns, dtype, copy)\u001b[0m\n\u001b[0;32m    346\u001b[0m                                  dtype=dtype, copy=copy)\n\u001b[0;32m    347\u001b[0m         \u001b[1;32melif\u001b[0m \u001b[0misinstance\u001b[0m\u001b[1;33m(\u001b[0m\u001b[0mdata\u001b[0m\u001b[1;33m,\u001b[0m \u001b[0mdict\u001b[0m\u001b[1;33m)\u001b[0m\u001b[1;33m:\u001b[0m\u001b[1;33m\u001b[0m\u001b[0m\n\u001b[1;32m--> 348\u001b[1;33m             \u001b[0mmgr\u001b[0m \u001b[1;33m=\u001b[0m \u001b[0mself\u001b[0m\u001b[1;33m.\u001b[0m\u001b[0m_init_dict\u001b[0m\u001b[1;33m(\u001b[0m\u001b[0mdata\u001b[0m\u001b[1;33m,\u001b[0m \u001b[0mindex\u001b[0m\u001b[1;33m,\u001b[0m \u001b[0mcolumns\u001b[0m\u001b[1;33m,\u001b[0m \u001b[0mdtype\u001b[0m\u001b[1;33m=\u001b[0m\u001b[0mdtype\u001b[0m\u001b[1;33m)\u001b[0m\u001b[1;33m\u001b[0m\u001b[0m\n\u001b[0m\u001b[0;32m    349\u001b[0m         \u001b[1;32melif\u001b[0m \u001b[0misinstance\u001b[0m\u001b[1;33m(\u001b[0m\u001b[0mdata\u001b[0m\u001b[1;33m,\u001b[0m \u001b[0mma\u001b[0m\u001b[1;33m.\u001b[0m\u001b[0mMaskedArray\u001b[0m\u001b[1;33m)\u001b[0m\u001b[1;33m:\u001b[0m\u001b[1;33m\u001b[0m\u001b[0m\n\u001b[0;32m    350\u001b[0m             \u001b[1;32mimport\u001b[0m \u001b[0mnumpy\u001b[0m\u001b[1;33m.\u001b[0m\u001b[0mma\u001b[0m\u001b[1;33m.\u001b[0m\u001b[0mmrecords\u001b[0m \u001b[1;32mas\u001b[0m \u001b[0mmrecords\u001b[0m\u001b[1;33m\u001b[0m\u001b[0m\n",
      "\u001b[1;32mc:\\users\\pablo\\appdata\\local\\programs\\python\\python37\\lib\\site-packages\\pandas\\core\\frame.py\u001b[0m in \u001b[0;36m_init_dict\u001b[1;34m(self, data, index, columns, dtype)\u001b[0m\n\u001b[0;32m    457\u001b[0m             \u001b[0marrays\u001b[0m \u001b[1;33m=\u001b[0m \u001b[1;33m[\u001b[0m\u001b[0mdata\u001b[0m\u001b[1;33m[\u001b[0m\u001b[0mk\u001b[0m\u001b[1;33m]\u001b[0m \u001b[1;32mfor\u001b[0m \u001b[0mk\u001b[0m \u001b[1;32min\u001b[0m \u001b[0mkeys\u001b[0m\u001b[1;33m]\u001b[0m\u001b[1;33m\u001b[0m\u001b[0m\n\u001b[0;32m    458\u001b[0m \u001b[1;33m\u001b[0m\u001b[0m\n\u001b[1;32m--> 459\u001b[1;33m         \u001b[1;32mreturn\u001b[0m \u001b[0m_arrays_to_mgr\u001b[0m\u001b[1;33m(\u001b[0m\u001b[0marrays\u001b[0m\u001b[1;33m,\u001b[0m \u001b[0mdata_names\u001b[0m\u001b[1;33m,\u001b[0m \u001b[0mindex\u001b[0m\u001b[1;33m,\u001b[0m \u001b[0mcolumns\u001b[0m\u001b[1;33m,\u001b[0m \u001b[0mdtype\u001b[0m\u001b[1;33m=\u001b[0m\u001b[0mdtype\u001b[0m\u001b[1;33m)\u001b[0m\u001b[1;33m\u001b[0m\u001b[0m\n\u001b[0m\u001b[0;32m    460\u001b[0m \u001b[1;33m\u001b[0m\u001b[0m\n\u001b[0;32m    461\u001b[0m     \u001b[1;32mdef\u001b[0m \u001b[0m_init_ndarray\u001b[0m\u001b[1;33m(\u001b[0m\u001b[0mself\u001b[0m\u001b[1;33m,\u001b[0m \u001b[0mvalues\u001b[0m\u001b[1;33m,\u001b[0m \u001b[0mindex\u001b[0m\u001b[1;33m,\u001b[0m \u001b[0mcolumns\u001b[0m\u001b[1;33m,\u001b[0m \u001b[0mdtype\u001b[0m\u001b[1;33m=\u001b[0m\u001b[1;32mNone\u001b[0m\u001b[1;33m,\u001b[0m \u001b[0mcopy\u001b[0m\u001b[1;33m=\u001b[0m\u001b[1;32mFalse\u001b[0m\u001b[1;33m)\u001b[0m\u001b[1;33m:\u001b[0m\u001b[1;33m\u001b[0m\u001b[0m\n",
      "\u001b[1;32mc:\\users\\pablo\\appdata\\local\\programs\\python\\python37\\lib\\site-packages\\pandas\\core\\frame.py\u001b[0m in \u001b[0;36m_arrays_to_mgr\u001b[1;34m(arrays, arr_names, index, columns, dtype)\u001b[0m\n\u001b[0;32m   7354\u001b[0m     \u001b[1;31m# figure out the index, if necessary\u001b[0m\u001b[1;33m\u001b[0m\u001b[1;33m\u001b[0m\u001b[0m\n\u001b[0;32m   7355\u001b[0m     \u001b[1;32mif\u001b[0m \u001b[0mindex\u001b[0m \u001b[1;32mis\u001b[0m \u001b[1;32mNone\u001b[0m\u001b[1;33m:\u001b[0m\u001b[1;33m\u001b[0m\u001b[0m\n\u001b[1;32m-> 7356\u001b[1;33m         \u001b[0mindex\u001b[0m \u001b[1;33m=\u001b[0m \u001b[0mextract_index\u001b[0m\u001b[1;33m(\u001b[0m\u001b[0marrays\u001b[0m\u001b[1;33m)\u001b[0m\u001b[1;33m\u001b[0m\u001b[0m\n\u001b[0m\u001b[0;32m   7357\u001b[0m \u001b[1;33m\u001b[0m\u001b[0m\n\u001b[0;32m   7358\u001b[0m     \u001b[1;31m# don't force copy because getting jammed in an ndarray anyway\u001b[0m\u001b[1;33m\u001b[0m\u001b[1;33m\u001b[0m\u001b[0m\n",
      "\u001b[1;32mc:\\users\\pablo\\appdata\\local\\programs\\python\\python37\\lib\\site-packages\\pandas\\core\\frame.py\u001b[0m in \u001b[0;36mextract_index\u001b[1;34m(data)\u001b[0m\n\u001b[0;32m   7391\u001b[0m \u001b[1;33m\u001b[0m\u001b[0m\n\u001b[0;32m   7392\u001b[0m         \u001b[1;32mif\u001b[0m \u001b[1;32mnot\u001b[0m \u001b[0mindexes\u001b[0m \u001b[1;32mand\u001b[0m \u001b[1;32mnot\u001b[0m \u001b[0mraw_lengths\u001b[0m\u001b[1;33m:\u001b[0m\u001b[1;33m\u001b[0m\u001b[0m\n\u001b[1;32m-> 7393\u001b[1;33m             raise ValueError('If using all scalar values, you must pass'\n\u001b[0m\u001b[0;32m   7394\u001b[0m                              ' an index')\n\u001b[0;32m   7395\u001b[0m \u001b[1;33m\u001b[0m\u001b[0m\n",
      "\u001b[1;31mValueError\u001b[0m: If using all scalar values, you must pass an index"
     ]
    }
   ],
   "source": [
    "import requests\n",
    "import pandas as pd\n",
    "from pandas.io.json import json_normalize\n",
    "\n",
    "response = requests.get(\"https://api.github.com/repos/ironhack-datalabs/madrid-oct-2018/forks\")\n",
    "results = response.json()\n",
    "results_df = pd.DataFrame(results)\n",
    "results_df"
   ]
  },
  {
   "cell_type": "code",
   "execution_count": 2,
   "metadata": {},
   "outputs": [
    {
     "data": {
      "text/plain": [
       "Index(['archive_url', 'archived', 'assignees_url', 'blobs_url', 'branches_url',\n",
       "       'clone_url', 'collaborators_url', 'comments_url', 'commits_url',\n",
       "       'compare_url', 'contents_url', 'contributors_url', 'created_at',\n",
       "       'default_branch', 'deployments_url', 'description', 'downloads_url',\n",
       "       'events_url', 'fork', 'forks', 'forks_count', 'forks_url', 'full_name',\n",
       "       'git_commits_url', 'git_refs_url', 'git_tags_url', 'git_url',\n",
       "       'has_downloads', 'has_issues', 'has_pages', 'has_projects', 'has_wiki',\n",
       "       'homepage', 'hooks_url', 'html_url', 'id', 'issue_comment_url',\n",
       "       'issue_events_url', 'issues_url', 'keys_url', 'labels_url', 'language',\n",
       "       'languages_url', 'license', 'merges_url', 'milestones_url',\n",
       "       'mirror_url', 'name', 'node_id', 'notifications_url', 'open_issues',\n",
       "       'open_issues_count', 'owner', 'private', 'pulls_url', 'pushed_at',\n",
       "       'releases_url', 'size', 'ssh_url', 'stargazers_count', 'stargazers_url',\n",
       "       'statuses_url', 'subscribers_url', 'subscription_url', 'svn_url',\n",
       "       'tags_url', 'teams_url', 'trees_url', 'updated_at', 'url', 'watchers',\n",
       "       'watchers_count'],\n",
       "      dtype='object')"
      ]
     },
     "execution_count": 2,
     "metadata": {},
     "output_type": "execute_result"
    }
   ],
   "source": [
    "results_df.columns"
   ]
  },
  {
   "cell_type": "code",
   "execution_count": 17,
   "metadata": {},
   "outputs": [
    {
     "data": {
      "text/plain": [
       "array(['HTML', 'Jupyter Notebook', 'Python'], dtype=object)"
      ]
     },
     "execution_count": 17,
     "metadata": {},
     "output_type": "execute_result"
    }
   ],
   "source": [
    "results_df[\"language\"].unique()"
   ]
  },
  {
   "cell_type": "code",
   "execution_count": 3,
   "metadata": {},
   "outputs": [
    {
     "ename": "NameError",
     "evalue": "name 'requests' is not defined",
     "output_type": "error",
     "traceback": [
      "\u001b[1;31m---------------------------------------------------------------------------\u001b[0m",
      "\u001b[1;31mNameError\u001b[0m                                 Traceback (most recent call last)",
      "\u001b[1;32m<ipython-input-3-7b641c23f625>\u001b[0m in \u001b[0;36m<module>\u001b[1;34m\u001b[0m\n\u001b[1;32m----> 1\u001b[1;33m \u001b[0mresponse1\u001b[0m \u001b[1;33m=\u001b[0m \u001b[0mrequests\u001b[0m\u001b[1;33m.\u001b[0m\u001b[0mget\u001b[0m\u001b[1;33m(\u001b[0m\u001b[1;34m\"https://api.github.com/repos/ironhack-datalabs/madrid-oct-2018/commits\"\u001b[0m\u001b[1;33m)\u001b[0m\u001b[1;33m\u001b[0m\u001b[0m\n\u001b[0m\u001b[0;32m      2\u001b[0m \u001b[0mresults1\u001b[0m \u001b[1;33m=\u001b[0m \u001b[0mresponse1\u001b[0m\u001b[1;33m.\u001b[0m\u001b[0mjson\u001b[0m\u001b[1;33m(\u001b[0m\u001b[1;33m)\u001b[0m\u001b[1;33m\u001b[0m\u001b[0m\n\u001b[0;32m      3\u001b[0m \u001b[0mresults_df1\u001b[0m \u001b[1;33m=\u001b[0m \u001b[0mpd\u001b[0m\u001b[1;33m.\u001b[0m\u001b[0mDataFrame\u001b[0m\u001b[1;33m(\u001b[0m\u001b[0mresults1\u001b[0m\u001b[1;33m)\u001b[0m\u001b[1;33m\u001b[0m\u001b[0m\n\u001b[0;32m      4\u001b[0m \u001b[0mresults_df1\u001b[0m\u001b[1;33m.\u001b[0m\u001b[0mhead\u001b[0m\u001b[1;33m(\u001b[0m\u001b[1;33m)\u001b[0m\u001b[1;33m\u001b[0m\u001b[0m\n",
      "\u001b[1;31mNameError\u001b[0m: name 'requests' is not defined"
     ]
    }
   ],
   "source": [
    "response1 = requests.get(\"https://api.github.com/repos/ironhack-datalabs/madrid-oct-2018/commits\")\n",
    "results1 = response1.json()\n",
    "results_df1 = pd.DataFrame(results1)\n",
    "results_df1.head()"
   ]
  },
  {
   "cell_type": "code",
   "execution_count": 18,
   "metadata": {},
   "outputs": [
    {
     "data": {
      "text/plain": [
       "Index(['author', 'comments_url', 'commit', 'committer', 'html_url', 'node_id',\n",
       "       'parents', 'sha', 'url'],\n",
       "      dtype='object')"
      ]
     },
     "execution_count": 18,
     "metadata": {},
     "output_type": "execute_result"
    }
   ],
   "source": [
    "results_df1.columns"
   ]
  },
  {
   "cell_type": "code",
   "execution_count": 12,
   "metadata": {},
   "outputs": [
    {
     "data": {
      "text/html": [
       "<div>\n",
       "<style scoped>\n",
       "    .dataframe tbody tr th:only-of-type {\n",
       "        vertical-align: middle;\n",
       "    }\n",
       "\n",
       "    .dataframe tbody tr th {\n",
       "        vertical-align: top;\n",
       "    }\n",
       "\n",
       "    .dataframe thead th {\n",
       "        text-align: right;\n",
       "    }\n",
       "</style>\n",
       "<table border=\"1\" class=\"dataframe\">\n",
       "  <thead>\n",
       "    <tr style=\"text-align: right;\">\n",
       "      <th></th>\n",
       "      <th>author.date</th>\n",
       "      <th>author.email</th>\n",
       "      <th>author.name</th>\n",
       "      <th>comment_count</th>\n",
       "      <th>committer.date</th>\n",
       "      <th>committer.email</th>\n",
       "      <th>committer.name</th>\n",
       "      <th>message</th>\n",
       "      <th>tree.sha</th>\n",
       "      <th>tree.url</th>\n",
       "      <th>url</th>\n",
       "      <th>verification.payload</th>\n",
       "      <th>verification.reason</th>\n",
       "      <th>verification.signature</th>\n",
       "      <th>verification.verified</th>\n",
       "    </tr>\n",
       "  </thead>\n",
       "  <tbody>\n",
       "    <tr>\n",
       "      <th>0</th>\n",
       "      <td>2018-10-30T05:06:04Z</td>\n",
       "      <td>zhou.eye8@gmail.com</td>\n",
       "      <td>Zhou Zhou</td>\n",
       "      <td>0</td>\n",
       "      <td>2018-10-30T05:06:04Z</td>\n",
       "      <td>zhou.eye8@gmail.com</td>\n",
       "      <td>Zhou Zhou</td>\n",
       "      <td>minor improvement of scavenger game</td>\n",
       "      <td>53545633ff24f17ee7240168df1925a329b9031c</td>\n",
       "      <td>https://api.github.com/repos/ironhack-datalabs...</td>\n",
       "      <td>https://api.github.com/repos/ironhack-datalabs...</td>\n",
       "      <td>None</td>\n",
       "      <td>unsigned</td>\n",
       "      <td>None</td>\n",
       "      <td>False</td>\n",
       "    </tr>\n",
       "    <tr>\n",
       "      <th>1</th>\n",
       "      <td>2018-10-30T04:54:28Z</td>\n",
       "      <td>zhou.eye8@gmail.com</td>\n",
       "      <td>Zhou Zhou</td>\n",
       "      <td>0</td>\n",
       "      <td>2018-10-30T04:54:28Z</td>\n",
       "      <td>zhou.eye8@gmail.com</td>\n",
       "      <td>Zhou Zhou</td>\n",
       "      <td>finished scavenger game lab</td>\n",
       "      <td>d7752ed17f0bb328f774cd6b030e7a408e022969</td>\n",
       "      <td>https://api.github.com/repos/ironhack-datalabs...</td>\n",
       "      <td>https://api.github.com/repos/ironhack-datalabs...</td>\n",
       "      <td>None</td>\n",
       "      <td>unsigned</td>\n",
       "      <td>None</td>\n",
       "      <td>False</td>\n",
       "    </tr>\n",
       "    <tr>\n",
       "      <th>2</th>\n",
       "      <td>2018-10-30T02:19:11Z</td>\n",
       "      <td>zhou.eye8@gmail.com</td>\n",
       "      <td>Zhou Zhou</td>\n",
       "      <td>0</td>\n",
       "      <td>2018-10-30T02:19:11Z</td>\n",
       "      <td>zhou.eye8@gmail.com</td>\n",
       "      <td>Zhou Zhou</td>\n",
       "      <td>rename scavenger files</td>\n",
       "      <td>b357430c42dc673303196e2fc25a7afcf0f73cb3</td>\n",
       "      <td>https://api.github.com/repos/ironhack-datalabs...</td>\n",
       "      <td>https://api.github.com/repos/ironhack-datalabs...</td>\n",
       "      <td>None</td>\n",
       "      <td>unsigned</td>\n",
       "      <td>None</td>\n",
       "      <td>False</td>\n",
       "    </tr>\n",
       "    <tr>\n",
       "      <th>3</th>\n",
       "      <td>2018-10-30T02:15:53Z</td>\n",
       "      <td>zhou.eye8@gmail.com</td>\n",
       "      <td>Zhou Zhou</td>\n",
       "      <td>0</td>\n",
       "      <td>2018-10-30T02:15:53Z</td>\n",
       "      <td>zhou.eye8@gmail.com</td>\n",
       "      <td>Zhou Zhou</td>\n",
       "      <td>Merge branch 'master' of https://github.com/ir...</td>\n",
       "      <td>9d17dccaa3f5c9b0112633036aa7da9510f56f83</td>\n",
       "      <td>https://api.github.com/repos/ironhack-datalabs...</td>\n",
       "      <td>https://api.github.com/repos/ironhack-datalabs...</td>\n",
       "      <td>None</td>\n",
       "      <td>unsigned</td>\n",
       "      <td>None</td>\n",
       "      <td>False</td>\n",
       "    </tr>\n",
       "    <tr>\n",
       "      <th>4</th>\n",
       "      <td>2018-10-30T02:15:49Z</td>\n",
       "      <td>zhou.eye8@gmail.com</td>\n",
       "      <td>Zhou Zhou</td>\n",
       "      <td>0</td>\n",
       "      <td>2018-10-30T02:15:49Z</td>\n",
       "      <td>zhou.eye8@gmail.com</td>\n",
       "      <td>Zhou Zhou</td>\n",
       "      <td>rename scavenger file</td>\n",
       "      <td>cf9b7f1f6b86ecaad12e78cca640f7fce1b07e46</td>\n",
       "      <td>https://api.github.com/repos/ironhack-datalabs...</td>\n",
       "      <td>https://api.github.com/repos/ironhack-datalabs...</td>\n",
       "      <td>None</td>\n",
       "      <td>unsigned</td>\n",
       "      <td>None</td>\n",
       "      <td>False</td>\n",
       "    </tr>\n",
       "  </tbody>\n",
       "</table>\n",
       "</div>"
      ],
      "text/plain": [
       "            author.date         author.email author.name  comment_count  \\\n",
       "0  2018-10-30T05:06:04Z  zhou.eye8@gmail.com   Zhou Zhou              0   \n",
       "1  2018-10-30T04:54:28Z  zhou.eye8@gmail.com   Zhou Zhou              0   \n",
       "2  2018-10-30T02:19:11Z  zhou.eye8@gmail.com   Zhou Zhou              0   \n",
       "3  2018-10-30T02:15:53Z  zhou.eye8@gmail.com   Zhou Zhou              0   \n",
       "4  2018-10-30T02:15:49Z  zhou.eye8@gmail.com   Zhou Zhou              0   \n",
       "\n",
       "         committer.date      committer.email committer.name  \\\n",
       "0  2018-10-30T05:06:04Z  zhou.eye8@gmail.com      Zhou Zhou   \n",
       "1  2018-10-30T04:54:28Z  zhou.eye8@gmail.com      Zhou Zhou   \n",
       "2  2018-10-30T02:19:11Z  zhou.eye8@gmail.com      Zhou Zhou   \n",
       "3  2018-10-30T02:15:53Z  zhou.eye8@gmail.com      Zhou Zhou   \n",
       "4  2018-10-30T02:15:49Z  zhou.eye8@gmail.com      Zhou Zhou   \n",
       "\n",
       "                                             message  \\\n",
       "0                minor improvement of scavenger game   \n",
       "1                        finished scavenger game lab   \n",
       "2                             rename scavenger files   \n",
       "3  Merge branch 'master' of https://github.com/ir...   \n",
       "4                              rename scavenger file   \n",
       "\n",
       "                                   tree.sha  \\\n",
       "0  53545633ff24f17ee7240168df1925a329b9031c   \n",
       "1  d7752ed17f0bb328f774cd6b030e7a408e022969   \n",
       "2  b357430c42dc673303196e2fc25a7afcf0f73cb3   \n",
       "3  9d17dccaa3f5c9b0112633036aa7da9510f56f83   \n",
       "4  cf9b7f1f6b86ecaad12e78cca640f7fce1b07e46   \n",
       "\n",
       "                                            tree.url  \\\n",
       "0  https://api.github.com/repos/ironhack-datalabs...   \n",
       "1  https://api.github.com/repos/ironhack-datalabs...   \n",
       "2  https://api.github.com/repos/ironhack-datalabs...   \n",
       "3  https://api.github.com/repos/ironhack-datalabs...   \n",
       "4  https://api.github.com/repos/ironhack-datalabs...   \n",
       "\n",
       "                                                 url verification.payload  \\\n",
       "0  https://api.github.com/repos/ironhack-datalabs...                 None   \n",
       "1  https://api.github.com/repos/ironhack-datalabs...                 None   \n",
       "2  https://api.github.com/repos/ironhack-datalabs...                 None   \n",
       "3  https://api.github.com/repos/ironhack-datalabs...                 None   \n",
       "4  https://api.github.com/repos/ironhack-datalabs...                 None   \n",
       "\n",
       "  verification.reason verification.signature  verification.verified  \n",
       "0            unsigned                   None                  False  \n",
       "1            unsigned                   None                  False  \n",
       "2            unsigned                   None                  False  \n",
       "3            unsigned                   None                  False  \n",
       "4            unsigned                   None                  False  "
      ]
     },
     "execution_count": 12,
     "metadata": {},
     "output_type": "execute_result"
    }
   ],
   "source": [
    "results_df2=json_normalize(results_df1[\"commit\"])\n",
    "results_df2.head()"
   ]
  },
  {
   "cell_type": "code",
   "execution_count": 2,
   "metadata": {},
   "outputs": [
    {
     "ename": "NameError",
     "evalue": "name 'results_df2' is not defined",
     "output_type": "error",
     "traceback": [
      "\u001b[1;31m---------------------------------------------------------------------------\u001b[0m",
      "\u001b[1;31mNameError\u001b[0m                                 Traceback (most recent call last)",
      "\u001b[1;32m<ipython-input-2-5a8d40f0f429>\u001b[0m in \u001b[0;36m<module>\u001b[1;34m\u001b[0m\n\u001b[1;32m----> 1\u001b[1;33m \u001b[0ma\u001b[0m \u001b[1;33m=\u001b[0m \u001b[0mresults_df2\u001b[0m\u001b[1;33m[\u001b[0m\u001b[1;33m(\u001b[0m\u001b[0mresults_df2\u001b[0m\u001b[1;33m[\u001b[0m\u001b[1;34m\"committer.date\"\u001b[0m\u001b[1;33m]\u001b[0m\u001b[1;33m>\u001b[0m\u001b[1;34m\"2018-10-20\"\u001b[0m\u001b[1;33m)\u001b[0m \u001b[1;33m&\u001b[0m \u001b[1;33m(\u001b[0m\u001b[0mresults_df2\u001b[0m\u001b[1;33m[\u001b[0m\u001b[1;34m\"committer.date\"\u001b[0m\u001b[1;33m]\u001b[0m\u001b[1;33m<\u001b[0m\u001b[1;34m\"2018-10-25\"\u001b[0m\u001b[1;33m)\u001b[0m\u001b[1;33m]\u001b[0m\u001b[1;33m\u001b[0m\u001b[0m\n\u001b[0m\u001b[0;32m      2\u001b[0m \u001b[0ma\u001b[0m\u001b[1;33m\u001b[0m\u001b[0m\n",
      "\u001b[1;31mNameError\u001b[0m: name 'results_df2' is not defined"
     ]
    }
   ],
   "source": [
    "a = results_df2[(results_df2[\"committer.date\"]>\"2018-10-20\") & (results_df2[\"committer.date\"]<\"2018-10-25\")]\n",
    "a"
   ]
  },
  {
   "cell_type": "code",
   "execution_count": null,
   "metadata": {},
   "outputs": [],
   "source": []
  },
  {
   "cell_type": "code",
   "execution_count": null,
   "metadata": {},
   "outputs": [],
   "source": []
  }
 ],
 "metadata": {
  "kernelspec": {
   "display_name": "Python 3",
   "language": "python",
   "name": "python3"
  },
  "language_info": {
   "codemirror_mode": {
    "name": "ipython",
    "version": 3
   },
   "file_extension": ".py",
   "mimetype": "text/x-python",
   "name": "python",
   "nbconvert_exporter": "python",
   "pygments_lexer": "ipython3",
   "version": "3.7.0"
  }
 },
 "nbformat": 4,
 "nbformat_minor": 2
}
