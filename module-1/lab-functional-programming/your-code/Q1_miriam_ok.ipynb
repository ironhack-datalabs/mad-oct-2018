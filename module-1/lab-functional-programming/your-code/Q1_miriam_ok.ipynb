{
 "cells": [
  {
   "cell_type": "markdown",
   "metadata": {},
   "source": [
    "In the cell below, create a Python function that wraps your previous solution for the Bag of Words lab.\n",
    "\n",
    "Requirements:\n",
    "\n",
    "1. Your function should accept the following parameters:\n",
    "    * `docs` [REQUIRED] - array of document paths.\n",
    "    * `stop_words` [OPTIONAL] - array of stop words. The default value is an empty array.\n",
    "\n",
    "1. Your function should return a Python object that contains the following:\n",
    "    * `bag_of_words` - array of strings of normalized unique words in the corpus.\n",
    "    * `term_freq` - array of the term-frequency vectors."
   ]
  },
  {
   "cell_type": "code",
   "execution_count": 3,
   "metadata": {},
   "outputs": [
    {
     "name": "stdout",
     "output_type": "stream",
     "text": [
      "{'bag_of_words': ['ironhack', 'is', 'cool', 'i', 'love', 'am', 'a', 'student', 'at'], 'term_freq': [[1, 1, 1, 0, 0, 0, 0, 0, 0], [1, 0, 0, 1, 1, 0, 0, 0, 0], [1, 0, 0, 1, 0, 1, 1, 1, 1]]}\n"
     ]
    }
   ],
   "source": [
    "# Import required libraries\n",
    "docs = ['doc_1/doc1.txt', 'doc_2/doc2.txt', 'doc_3/doc3.txt']\n",
    "\n",
    "# Define function\n",
    "def get_bow_from_docs(docs, stop_words=[]):\n",
    "    corpus = [(open(doc,\"r\").read().lower().replace('.', ''))for doc in docs]\n",
    "    bag_of_words = []\n",
    "    for item in corpus:\n",
    "        for i in item.split():\n",
    "            if i in bag_of_words or i in stop_words:\n",
    "                continue\n",
    "            else:\n",
    "                bag_of_words.append(i)\n",
    "    term_freq = []\n",
    "    for e in corpus:\n",
    "        term_freq_2 = []\n",
    "        for i in bag_of_words:\n",
    "            if i in e.split():\n",
    "                term_freq_2.append(1)\n",
    "            else:\n",
    "                term_freq_2.append(0)\n",
    "        term_freq.append(term_freq_2)\n",
    "    return {\n",
    "        \"bag_of_words\": bag_of_words,\n",
    "        \"term_freq\": term_freq\n",
    "    }\n",
    "\n",
    "    \n",
    "print(get_bow_from_docs(docs, stop_words=[]))\n",
    "    \n",
    "    # In the function, first define the variables you will use such as `corpus`, `bag_of_words`, and `term_freq`.\n",
    "    \n",
    "    \n",
    "    "
   ]
  },
  {
   "cell_type": "markdown",
   "metadata": {},
   "source": [
    "Test your function without stop words. You should see the output like below:\n",
    "\n",
    "```{'bag_of_words': ['ironhack', 'is', 'cool', 'i', 'love', 'am', 'a', 'student', 'at'], 'term_freq': [[1, 1, 1, 0, 0, 0, 0, 0, 0], [1, 0, 0, 1, 1, 0, 0, 0, 0], [1, 0, 0, 1, 0, 1, 1, 1, 1]]}```"
   ]
  },
  {
   "cell_type": "code",
   "execution_count": 4,
   "metadata": {},
   "outputs": [
    {
     "name": "stdout",
     "output_type": "stream",
     "text": [
      "{'bag_of_words': ['ironhack', 'is', 'cool', 'i', 'love', 'am', 'a', 'student', 'at'], 'term_freq': [[1, 1, 1, 0, 0, 0, 0, 0, 0], [1, 0, 0, 1, 1, 0, 0, 0, 0], [1, 0, 0, 1, 0, 1, 1, 1, 1]]}\n"
     ]
    }
   ],
   "source": [
    "# Define doc paths array\n",
    "docs = ['doc_1/doc1.txt', 'doc_2/doc2.txt', 'doc_3/doc3.txt']\n",
    "\n",
    "# Obtain BoW from your function\n",
    "bow = get_bow_from_docs(docs)\n",
    "\n",
    "# Print BoW\n",
    "print(bow)"
   ]
  },
  {
   "cell_type": "markdown",
   "metadata": {},
   "source": [
    "If your attempt above is successful, nice work done!\n",
    "\n",
    "Now test your function again with the stop words. In the previous lab we defined the stop words in a large array. In this lab, we'll import the stop words from Scikit-Learn."
   ]
  },
  {
   "cell_type": "code",
   "execution_count": 5,
   "metadata": {},
   "outputs": [
    {
     "name": "stdout",
     "output_type": "stream",
     "text": [
      "frozenset({'less', 'never', 'behind', 'am', 'anyhow', 'rather', 'hereafter', 'top', 'several', 'ever', 'anything', 'ourselves', 'all', 'became', 'you', 'by', 'into', 'well', 'back', 'amount', 'whatever', 'three', 'sometimes', 'during', 'alone', 'next', 'until', 'amongst', 'might', 'had', 'except', 'here', 'others', 'hereupon', 'eleven', 'him', 'last', 'for', 'i', 'only', 'when', 'his', 'fifteen', 'himself', 'five', 'anywhere', 'together', 'cannot', 'done', 'a', 'against', 'mill', 'noone', 'and', 'since', 'anyone', 'serious', 'thereafter', 'out', 'was', 'each', 'mostly', 'more', 'at', 'of', 'own', 'third', 'whither', 'been', 'onto', 'wherever', 'fifty', 'go', 'off', 'before', 'ours', 'de', 'has', 'have', 'sometime', 'mine', 'how', 'name', 'now', 'thereupon', 'to', 'below', 'every', 'hence', 'up', 'always', 'once', 'we', 'afterwards', 'somehow', 'very', 'although', 'call', 'why', 'same', 'latter', 'everywhere', 'most', 'whenever', 'enough', 'them', 'even', 'beside', 'would', 'per', 'yourselves', 'none', 'whence', 'hundred', 'becomes', 'after', 'thick', 'anyway', 'must', 'show', 'hers', 'beforehand', 'interest', 'please', 'whereupon', 'seeming', 'eg', 'get', 'my', 'may', 'hasnt', 'their', 'if', 'latterly', 'part', 'whose', 'seemed', 'give', 'what', 'besides', 'her', 'over', 'any', 'though', 'herself', 'moreover', 'nobody', 'are', 'seem', 'that', 'or', 'where', 'bill', 'while', 'yours', 'through', 'front', 'nowhere', 'yet', 'these', 'those', 'cry', 'thru', 'whom', 'because', 'he', 'sixty', 'the', 'under', 'found', 'upon', 'whole', 'whereby', 'indeed', 'towards', 'also', 'see', 'side', 'eight', 'much', 'system', 'but', 'thereby', 'un', 'across', 'beyond', 'couldnt', 'hereby', 'amoungst', 'without', 'within', 'throughout', 'herein', 'namely', 'whereafter', 'do', 'it', 'its', 'move', 'find', 'myself', 'nine', 'could', 'inc', 'us', 'your', 'no', 'everyone', 'bottom', 'first', 'ie', 'from', 're', 'full', 'among', 'many', 'than', 'cant', 'therein', 'be', 'whoever', 'almost', 'meanwhile', 'whereas', 'former', 'ten', 'empty', 'some', 'above', 'take', 'least', 'seems', 'both', 'put', 'such', 'however', 'will', 'six', 'few', 'who', 'ltd', 'being', 'perhaps', 'itself', 'were', 'around', 'an', 'forty', 'in', 'should', 'so', 'becoming', 'themselves', 'toward', 'co', 'on', 'not', 'already', 'one', 'again', 'with', 'is', 'they', 'etc', 'other', 'someone', 'else', 'often', 'describe', 'fire', 'twenty', 'whether', 'wherein', 'somewhere', 'yourself', 'between', 'everything', 'formerly', 'me', 'either', 'our', 'fill', 'thin', 'too', 'thence', 'along', 'otherwise', 'nothing', 'she', 'four', 'sincere', 'elsewhere', 'con', 'can', 'therefore', 'two', 'made', 'via', 'become', 'due', 'this', 'twelve', 'nevertheless', 'still', 'as', 'down', 'about', 'another', 'detail', 'keep', 'neither', 'nor', 'further', 'something', 'thus', 'which', 'there', 'then'})\n"
     ]
    }
   ],
   "source": [
    "from sklearn.feature_extraction import stop_words\n",
    "print(stop_words.ENGLISH_STOP_WORDS)\n",
    "\n",
    "\n"
   ]
  },
  {
   "cell_type": "markdown",
   "metadata": {},
   "source": [
    "You should have seen a large list of words that looks like:\n",
    "\n",
    "```frozenset({'across', 'mine', 'cannot', ...})```\n",
    "\n",
    "`frozenset` is a type of Python object that is immutable. In this lab you can use it just like an array without conversion."
   ]
  },
  {
   "cell_type": "markdown",
   "metadata": {},
   "source": [
    "Next, test your function with supplying `stop_words.ENGLISH_STOP_WORDS` as the second parameter."
   ]
  },
  {
   "cell_type": "code",
   "execution_count": 6,
   "metadata": {
    "scrolled": true
   },
   "outputs": [
    {
     "name": "stdout",
     "output_type": "stream",
     "text": [
      "{'bag_of_words': ['ironhack', 'cool', 'love', 'student'], 'term_freq': [[1, 1, 0, 0], [1, 0, 1, 0], [1, 0, 0, 1]]}\n"
     ]
    }
   ],
   "source": [
    "bow = get_bow_from_docs(docs, stop_words.ENGLISH_STOP_WORDS)\n",
    "\n",
    "print(bow)"
   ]
  },
  {
   "cell_type": "markdown",
   "metadata": {},
   "source": [
    "You should have seen:\n",
    "\n",
    "```{'bag_of_words': ['ironhack', 'cool', 'love', 'student'], 'term_freq': [[1, 1, 0, 0], [1, 0, 1, 0], [1, 0, 0, 1]]}```"
   ]
  }
 ],
 "metadata": {
  "kernelspec": {
   "display_name": "Python 3",
   "language": "python",
   "name": "python3"
  },
  "language_info": {
   "codemirror_mode": {
    "name": "ipython",
    "version": 3
   },
   "file_extension": ".py",
   "mimetype": "text/x-python",
   "name": "python",
   "nbconvert_exporter": "python",
   "pygments_lexer": "ipython3",
   "version": "3.6.6"
  }
 },
 "nbformat": 4,
 "nbformat_minor": 2
}
