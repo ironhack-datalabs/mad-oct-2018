{
 "cells": [
  {
   "cell_type": "code",
   "execution_count": null,
   "metadata": {
    "scrolled": true
   },
   "outputs": [],
   "source": [
    "import pandas as pd\n",
    "import matplotlib.pyplot as plt\n",
    "import seaborn as sns\n",
    "import re\n",
    "\n",
    "year = int(input(\"En que año: \"))\n",
    "weight = int(input(\"Altura máxima [cm]: \"))\n",
    "title = \"Más veces mejores jugadores de la semana \" + str(year)\n",
    "\n",
    "def acquire():\n",
    "    df = pd.read_csv(\"NBA_player_of_the_week.csv\")\n",
    "    conferenc = pd.read_csv(\"conferenc.csv\")\n",
    "    data = pd.merge(df, conferenc, on=\"Team\")\n",
    "    return data\n",
    "display(acquire().head())"
   ]
  },
  {
   "cell_type": "code",
   "execution_count": null,
   "metadata": {},
   "outputs": [],
   "source": [
    "def drop_columns(data):\n",
    "    data_dropped = data.drop([\"Conference\", \"Draft Year\", \"Real_value\"], axis=1)\n",
    "    return data_dropped\n",
    "drop_columns(data).head()"
   ]
  },
  {
   "cell_type": "code",
   "execution_count": null,
   "metadata": {},
   "outputs": [],
   "source": [
    "def replace(data):\n",
    "    Height=[]\n",
    "    for i in data_dropped[\"Height\"]:\n",
    "        if \"cm\" in i:\n",
    "            Height.append(int(float(i.replace('cm',''))))\n",
    "        else:\n",
    "            Height.append(int(float(i.replace('-','.'))*30.48))\n",
    "    return Height\n",
    "    Weight=[]\n",
    "    for item in data_dropped[\"Weight\"]:\n",
    "        if 'kg' in item:\n",
    "            Weight.append(int(item.lower().replace('kg','')))\n",
    "        else:\n",
    "            Weight.append(int(int(item)*0.45))\n",
    "    return Weight\n",
    "    data_dropped[\"Weight\"]=Weight\n",
    "    data_dropped[\"Height\"]=Height\n",
    "    return data_dropped\n",
    "    print(replace(data))"
   ]
  },
  {
   "cell_type": "code",
   "execution_count": null,
   "metadata": {},
   "outputs": [],
   "source": [
    "def visualize(df):\n",
    "    fig, ax = plt.subplots(figsize=(15,8))\n",
    "    barchart = sns.barplot(data=results, x='Make', y='Combined MPG')\n",
    "    plt.title(title + \"\\n\", fontsize=16)\n",
    "    return barchart"
   ]
  },
  {
   "cell_type": "code",
   "execution_count": null,
   "metadata": {},
   "outputs": [],
   "source": [
    "def save_viz(barchart):\n",
    "    fig = barchart.get_figure()\n",
    "    fig.savefig(title + '.png')"
   ]
  },
  {
   "cell_type": "code",
   "execution_count": null,
   "metadata": {},
   "outputs": [],
   "source": [
    "if __name__ == '__main__':\n",
    "    data = acquire()\n",
    "    data_dropped = drop_columns(data)\n",
    "    replaced = replace(dropped_columns)\n",
    "    barchart = visualize(results)\n",
    "    save_viz(barchart)"
   ]
  }
 ],
 "metadata": {
  "kernelspec": {
   "display_name": "Python 3",
   "language": "python",
   "name": "python3"
  },
  "language_info": {
   "codemirror_mode": {
    "name": "ipython",
    "version": 3
   },
   "file_extension": ".py",
   "mimetype": "text/x-python",
   "name": "python",
   "nbconvert_exporter": "python",
   "pygments_lexer": "ipython3",
   "version": "3.7.0"
  }
 },
 "nbformat": 4,
 "nbformat_minor": 2
}
