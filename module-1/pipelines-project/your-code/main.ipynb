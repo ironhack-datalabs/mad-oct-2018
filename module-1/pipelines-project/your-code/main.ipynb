{
 "cells": [
  {
   "cell_type": "code",
   "execution_count": 25,
   "metadata": {
    "scrolled": true
   },
   "outputs": [
    {
     "name": "stdout",
     "output_type": "stream",
     "text": [
      "En que año: 2016\n",
      "Altura máxima [cm]: 200\n"
     ]
    },
    {
     "data": {
      "text/html": [
       "<div>\n",
       "<style scoped>\n",
       "    .dataframe tbody tr th:only-of-type {\n",
       "        vertical-align: middle;\n",
       "    }\n",
       "\n",
       "    .dataframe tbody tr th {\n",
       "        vertical-align: top;\n",
       "    }\n",
       "\n",
       "    .dataframe thead th {\n",
       "        text-align: right;\n",
       "    }\n",
       "</style>\n",
       "<table border=\"1\" class=\"dataframe\">\n",
       "  <thead>\n",
       "    <tr style=\"text-align: right;\">\n",
       "      <th></th>\n",
       "      <th>Age</th>\n",
       "      <th>Conference</th>\n",
       "      <th>Date</th>\n",
       "      <th>Draft Year</th>\n",
       "      <th>Height</th>\n",
       "      <th>Player</th>\n",
       "      <th>Position</th>\n",
       "      <th>Season</th>\n",
       "      <th>Season short</th>\n",
       "      <th>Seasons in league</th>\n",
       "      <th>Team</th>\n",
       "      <th>Weight</th>\n",
       "      <th>Real_value</th>\n",
       "      <th>Conferenc</th>\n",
       "    </tr>\n",
       "  </thead>\n",
       "  <tbody>\n",
       "    <tr>\n",
       "      <th>0</th>\n",
       "      <td>29</td>\n",
       "      <td>NaN</td>\n",
       "      <td>Apr 14, 1985</td>\n",
       "      <td>1978</td>\n",
       "      <td>6-5</td>\n",
       "      <td>Micheal Ray Richardson</td>\n",
       "      <td>PG</td>\n",
       "      <td>1984-1985</td>\n",
       "      <td>1985</td>\n",
       "      <td>6</td>\n",
       "      <td>New Jersey Nets</td>\n",
       "      <td>189</td>\n",
       "      <td>1.0</td>\n",
       "      <td>East</td>\n",
       "    </tr>\n",
       "    <tr>\n",
       "      <th>1</th>\n",
       "      <td>29</td>\n",
       "      <td>NaN</td>\n",
       "      <td>Dec 30, 1984</td>\n",
       "      <td>1978</td>\n",
       "      <td>6-5</td>\n",
       "      <td>Micheal Ray Richardson</td>\n",
       "      <td>PG</td>\n",
       "      <td>1984-1985</td>\n",
       "      <td>1985</td>\n",
       "      <td>6</td>\n",
       "      <td>New Jersey Nets</td>\n",
       "      <td>189</td>\n",
       "      <td>1.0</td>\n",
       "      <td>East</td>\n",
       "    </tr>\n",
       "    <tr>\n",
       "      <th>2</th>\n",
       "      <td>25</td>\n",
       "      <td>NaN</td>\n",
       "      <td>Nov 10, 1985</td>\n",
       "      <td>1981</td>\n",
       "      <td>6-8</td>\n",
       "      <td>Buck Williams</td>\n",
       "      <td>PF</td>\n",
       "      <td>1985-1986</td>\n",
       "      <td>1986</td>\n",
       "      <td>4</td>\n",
       "      <td>New Jersey Nets</td>\n",
       "      <td>215</td>\n",
       "      <td>1.0</td>\n",
       "      <td>East</td>\n",
       "    </tr>\n",
       "    <tr>\n",
       "      <th>3</th>\n",
       "      <td>24</td>\n",
       "      <td>NaN</td>\n",
       "      <td>Apr 5, 1992</td>\n",
       "      <td>1989</td>\n",
       "      <td>6-1</td>\n",
       "      <td>Mookie Blaylock</td>\n",
       "      <td>PG</td>\n",
       "      <td>1991-1992</td>\n",
       "      <td>1992</td>\n",
       "      <td>2</td>\n",
       "      <td>New Jersey Nets</td>\n",
       "      <td>190</td>\n",
       "      <td>1.0</td>\n",
       "      <td>East</td>\n",
       "    </tr>\n",
       "    <tr>\n",
       "      <th>4</th>\n",
       "      <td>26</td>\n",
       "      <td>NaN</td>\n",
       "      <td>Mar 14, 1993</td>\n",
       "      <td>1990</td>\n",
       "      <td>6-2</td>\n",
       "      <td>Rumeal Robinson</td>\n",
       "      <td>PG</td>\n",
       "      <td>1992-1993</td>\n",
       "      <td>1993</td>\n",
       "      <td>2</td>\n",
       "      <td>New Jersey Nets</td>\n",
       "      <td>195</td>\n",
       "      <td>1.0</td>\n",
       "      <td>East</td>\n",
       "    </tr>\n",
       "  </tbody>\n",
       "</table>\n",
       "</div>"
      ],
      "text/plain": [
       "   Age Conference          Date  Draft Year Height                  Player  \\\n",
       "0   29        NaN  Apr 14, 1985        1978    6-5  Micheal Ray Richardson   \n",
       "1   29        NaN  Dec 30, 1984        1978    6-5  Micheal Ray Richardson   \n",
       "2   25        NaN  Nov 10, 1985        1981    6-8           Buck Williams   \n",
       "3   24        NaN   Apr 5, 1992        1989    6-1         Mookie Blaylock   \n",
       "4   26        NaN  Mar 14, 1993        1990    6-2         Rumeal Robinson   \n",
       "\n",
       "  Position     Season  Season short  Seasons in league             Team  \\\n",
       "0       PG  1984-1985          1985                  6  New Jersey Nets   \n",
       "1       PG  1984-1985          1985                  6  New Jersey Nets   \n",
       "2       PF  1985-1986          1986                  4  New Jersey Nets   \n",
       "3       PG  1991-1992          1992                  2  New Jersey Nets   \n",
       "4       PG  1992-1993          1993                  2  New Jersey Nets   \n",
       "\n",
       "  Weight  Real_value Conferenc  \n",
       "0    189         1.0      East  \n",
       "1    189         1.0      East  \n",
       "2    215         1.0      East  \n",
       "3    190         1.0      East  \n",
       "4    195         1.0      East  "
      ]
     },
     "metadata": {},
     "output_type": "display_data"
    }
   ],
   "source": [
    "import pandas as pd\n",
    "import matplotlib.pyplot as plt\n",
    "import seaborn as sns\n",
    "import re\n",
    "\n",
    "year = int(input(\"En que año: \"))\n",
    "weight = int(input(\"Altura máxima [cm]: \"))\n",
    "title = \"Más veces mejores jugadores de la semana \" + str(year)\n",
    "\n",
    "def acquire():\n",
    "    df = pd.read_csv(\"NBA_player_of_the_week.csv\")\n",
    "    conferenc = pd.read_csv(\"conferenc.csv\")\n",
    "    data = pd.merge(df, conferenc, on=\"Team\")\n",
    "    return data\n",
    "display(acquire().head())"
   ]
  },
  {
   "cell_type": "code",
   "execution_count": 48,
   "metadata": {},
   "outputs": [
    {
     "data": {
      "text/html": [
       "<div>\n",
       "<style scoped>\n",
       "    .dataframe tbody tr th:only-of-type {\n",
       "        vertical-align: middle;\n",
       "    }\n",
       "\n",
       "    .dataframe tbody tr th {\n",
       "        vertical-align: top;\n",
       "    }\n",
       "\n",
       "    .dataframe thead th {\n",
       "        text-align: right;\n",
       "    }\n",
       "</style>\n",
       "<table border=\"1\" class=\"dataframe\">\n",
       "  <thead>\n",
       "    <tr style=\"text-align: right;\">\n",
       "      <th></th>\n",
       "      <th>Age</th>\n",
       "      <th>Date</th>\n",
       "      <th>Height</th>\n",
       "      <th>Player</th>\n",
       "      <th>Position</th>\n",
       "      <th>Season</th>\n",
       "      <th>Season short</th>\n",
       "      <th>Seasons in league</th>\n",
       "      <th>Team</th>\n",
       "      <th>Weight</th>\n",
       "      <th>Conferenc</th>\n",
       "    </tr>\n",
       "  </thead>\n",
       "  <tbody>\n",
       "    <tr>\n",
       "      <th>0</th>\n",
       "      <td>29</td>\n",
       "      <td>Apr 14, 1985</td>\n",
       "      <td>6-5</td>\n",
       "      <td>Micheal Ray Richardson</td>\n",
       "      <td>PG</td>\n",
       "      <td>1984-1985</td>\n",
       "      <td>1985</td>\n",
       "      <td>6</td>\n",
       "      <td>New Jersey Nets</td>\n",
       "      <td>189</td>\n",
       "      <td>East</td>\n",
       "    </tr>\n",
       "    <tr>\n",
       "      <th>1</th>\n",
       "      <td>29</td>\n",
       "      <td>Dec 30, 1984</td>\n",
       "      <td>6-5</td>\n",
       "      <td>Micheal Ray Richardson</td>\n",
       "      <td>PG</td>\n",
       "      <td>1984-1985</td>\n",
       "      <td>1985</td>\n",
       "      <td>6</td>\n",
       "      <td>New Jersey Nets</td>\n",
       "      <td>189</td>\n",
       "      <td>East</td>\n",
       "    </tr>\n",
       "    <tr>\n",
       "      <th>2</th>\n",
       "      <td>25</td>\n",
       "      <td>Nov 10, 1985</td>\n",
       "      <td>6-8</td>\n",
       "      <td>Buck Williams</td>\n",
       "      <td>PF</td>\n",
       "      <td>1985-1986</td>\n",
       "      <td>1986</td>\n",
       "      <td>4</td>\n",
       "      <td>New Jersey Nets</td>\n",
       "      <td>215</td>\n",
       "      <td>East</td>\n",
       "    </tr>\n",
       "    <tr>\n",
       "      <th>3</th>\n",
       "      <td>24</td>\n",
       "      <td>Apr 5, 1992</td>\n",
       "      <td>6-1</td>\n",
       "      <td>Mookie Blaylock</td>\n",
       "      <td>PG</td>\n",
       "      <td>1991-1992</td>\n",
       "      <td>1992</td>\n",
       "      <td>2</td>\n",
       "      <td>New Jersey Nets</td>\n",
       "      <td>190</td>\n",
       "      <td>East</td>\n",
       "    </tr>\n",
       "    <tr>\n",
       "      <th>4</th>\n",
       "      <td>26</td>\n",
       "      <td>Mar 14, 1993</td>\n",
       "      <td>6-2</td>\n",
       "      <td>Rumeal Robinson</td>\n",
       "      <td>PG</td>\n",
       "      <td>1992-1993</td>\n",
       "      <td>1993</td>\n",
       "      <td>2</td>\n",
       "      <td>New Jersey Nets</td>\n",
       "      <td>195</td>\n",
       "      <td>East</td>\n",
       "    </tr>\n",
       "  </tbody>\n",
       "</table>\n",
       "</div>"
      ],
      "text/plain": [
       "   Age          Date Height                  Player Position     Season  \\\n",
       "0   29  Apr 14, 1985    6-5  Micheal Ray Richardson       PG  1984-1985   \n",
       "1   29  Dec 30, 1984    6-5  Micheal Ray Richardson       PG  1984-1985   \n",
       "2   25  Nov 10, 1985    6-8           Buck Williams       PF  1985-1986   \n",
       "3   24   Apr 5, 1992    6-1         Mookie Blaylock       PG  1991-1992   \n",
       "4   26  Mar 14, 1993    6-2         Rumeal Robinson       PG  1992-1993   \n",
       "\n",
       "   Season short  Seasons in league             Team Weight Conferenc  \n",
       "0          1985                  6  New Jersey Nets    189      East  \n",
       "1          1985                  6  New Jersey Nets    189      East  \n",
       "2          1986                  4  New Jersey Nets    215      East  \n",
       "3          1992                  2  New Jersey Nets    190      East  \n",
       "4          1993                  2  New Jersey Nets    195      East  "
      ]
     },
     "execution_count": 48,
     "metadata": {},
     "output_type": "execute_result"
    }
   ],
   "source": [
    "def drop_columns(data):\n",
    "    data_dropped = data.drop([\"Conference\", \"Draft Year\", \"Real_value\"], axis=1)\n",
    "    return data_dropped\n",
    "drop_columns(data).head()"
   ]
  },
  {
   "cell_type": "code",
   "execution_count": 67,
   "metadata": {},
   "outputs": [
    {
     "ename": "SyntaxError",
     "evalue": "'return' outside function (<ipython-input-67-55eb84f00834>, line 7)",
     "output_type": "error",
     "traceback": [
      "\u001b[1;36m  File \u001b[1;32m\"<ipython-input-67-55eb84f00834>\"\u001b[1;36m, line \u001b[1;32m7\u001b[0m\n\u001b[1;33m    return Height\u001b[0m\n\u001b[1;37m                 ^\u001b[0m\n\u001b[1;31mSyntaxError\u001b[0m\u001b[1;31m:\u001b[0m 'return' outside function\n"
     ]
    }
   ],
   "source": [
    "def replace_height(data):\n",
    "    Height=[]\n",
    "    for i in data_dropped[\"Height\"]:\n",
    "        if \"cm\" in i:\n",
    "            Height.append(int(float(i.replace('cm',''))))\n",
    "        else:\n",
    "            Height.append(int(float(i.replace('-','.'))*30.48))\n",
    "    return Height\n",
    "return data_dropped1 = pd.DataFrame(data_dropped, columnas=Height)\n",
    "replace_height(data)"
   ]
  },
  {
   "cell_type": "code",
   "execution_count": 77,
   "metadata": {},
   "outputs": [],
   "source": [
    "def replace(data):\n",
    "    Height=[]\n",
    "    for i in data_dropped[\"Height\"]:\n",
    "        if \"cm\" in i:\n",
    "            Height.append(int(float(i.replace('cm',''))))\n",
    "        else:\n",
    "            Height.append(int(float(i.replace('-','.'))*30.48))\n",
    "    return Height\n",
    "    Weight=[]\n",
    "    for item in data_dropped[\"Weight\"]:\n",
    "        if 'kg' in item:\n",
    "            Weight.append(int(item.lower().replace('kg','')))\n",
    "        else:\n",
    "            Weight.append(int(int(item)*0.45))\n",
    "    return Weight\n",
    "    data_dropped[\"Weight\"]=Weight\n",
    "    data_dropped[\"Height\"]=Height\n",
    "    return data_dropped\n",
    "    print(replace(data))"
   ]
  },
  {
   "cell_type": "code",
   "execution_count": 37,
   "metadata": {},
   "outputs": [
    {
     "ename": "NameError",
     "evalue": "name 'visualize' is not defined",
     "output_type": "error",
     "traceback": [
      "\u001b[1;31m---------------------------------------------------------------------------\u001b[0m",
      "\u001b[1;31mNameError\u001b[0m                                 Traceback (most recent call last)",
      "\u001b[1;32m<ipython-input-37-de32e0177ff9>\u001b[0m in \u001b[0;36m<module>\u001b[1;34m\u001b[0m\n\u001b[0;32m      3\u001b[0m     \u001b[0mdata_dropped\u001b[0m \u001b[1;33m=\u001b[0m \u001b[0mdrop_columns\u001b[0m\u001b[1;33m(\u001b[0m\u001b[0mdata\u001b[0m\u001b[1;33m)\u001b[0m\u001b[1;33m\u001b[0m\u001b[0m\n\u001b[0;32m      4\u001b[0m     \u001b[0mreplaced\u001b[0m \u001b[1;33m=\u001b[0m \u001b[0mreplace\u001b[0m\u001b[1;33m(\u001b[0m\u001b[0mdropped_columns\u001b[0m\u001b[1;33m)\u001b[0m\u001b[1;33m\u001b[0m\u001b[0m\n\u001b[1;32m----> 5\u001b[1;33m     \u001b[0mbarchart\u001b[0m \u001b[1;33m=\u001b[0m \u001b[0mvisualize\u001b[0m\u001b[1;33m(\u001b[0m\u001b[0mresults\u001b[0m\u001b[1;33m)\u001b[0m\u001b[1;33m\u001b[0m\u001b[0m\n\u001b[0m\u001b[0;32m      6\u001b[0m     \u001b[0msave_viz\u001b[0m\u001b[1;33m(\u001b[0m\u001b[0mbarchart\u001b[0m\u001b[1;33m)\u001b[0m\u001b[1;33m\u001b[0m\u001b[0m\n",
      "\u001b[1;31mNameError\u001b[0m: name 'visualize' is not defined"
     ]
    }
   ],
   "source": [
    "if __name__ == '__main__':\n",
    "    data = acquire()\n",
    "    data_dropped = drop_columns(data)\n",
    "    replaced = replace(dropped_columns)\n",
    "    barchart = visualize(results)\n",
    "    save_viz(barchart)"
   ]
  },
  {
   "cell_type": "code",
   "execution_count": 7,
   "metadata": {},
   "outputs": [
    {
     "data": {
      "text/html": [
       "<div>\n",
       "<style scoped>\n",
       "    .dataframe tbody tr th:only-of-type {\n",
       "        vertical-align: middle;\n",
       "    }\n",
       "\n",
       "    .dataframe tbody tr th {\n",
       "        vertical-align: top;\n",
       "    }\n",
       "\n",
       "    .dataframe thead th {\n",
       "        text-align: right;\n",
       "    }\n",
       "</style>\n",
       "<table border=\"1\" class=\"dataframe\">\n",
       "  <thead>\n",
       "    <tr style=\"text-align: right;\">\n",
       "      <th></th>\n",
       "      <th>Age</th>\n",
       "      <th>Date</th>\n",
       "      <th>Height</th>\n",
       "      <th>Player</th>\n",
       "      <th>Position</th>\n",
       "      <th>Season</th>\n",
       "      <th>Season short</th>\n",
       "      <th>Seasons in league</th>\n",
       "      <th>Team</th>\n",
       "      <th>Weight</th>\n",
       "      <th>Conferenc</th>\n",
       "    </tr>\n",
       "  </thead>\n",
       "  <tbody>\n",
       "    <tr>\n",
       "      <th>0</th>\n",
       "      <td>29</td>\n",
       "      <td>Apr 14, 1985</td>\n",
       "      <td>6-5</td>\n",
       "      <td>Micheal Ray Richardson</td>\n",
       "      <td>PG</td>\n",
       "      <td>1984-1985</td>\n",
       "      <td>1985</td>\n",
       "      <td>6</td>\n",
       "      <td>New Jersey Nets</td>\n",
       "      <td>189</td>\n",
       "      <td>East</td>\n",
       "    </tr>\n",
       "    <tr>\n",
       "      <th>1</th>\n",
       "      <td>29</td>\n",
       "      <td>Dec 30, 1984</td>\n",
       "      <td>6-5</td>\n",
       "      <td>Micheal Ray Richardson</td>\n",
       "      <td>PG</td>\n",
       "      <td>1984-1985</td>\n",
       "      <td>1985</td>\n",
       "      <td>6</td>\n",
       "      <td>New Jersey Nets</td>\n",
       "      <td>189</td>\n",
       "      <td>East</td>\n",
       "    </tr>\n",
       "    <tr>\n",
       "      <th>2</th>\n",
       "      <td>25</td>\n",
       "      <td>Nov 10, 1985</td>\n",
       "      <td>6-8</td>\n",
       "      <td>Buck Williams</td>\n",
       "      <td>PF</td>\n",
       "      <td>1985-1986</td>\n",
       "      <td>1986</td>\n",
       "      <td>4</td>\n",
       "      <td>New Jersey Nets</td>\n",
       "      <td>215</td>\n",
       "      <td>East</td>\n",
       "    </tr>\n",
       "    <tr>\n",
       "      <th>3</th>\n",
       "      <td>24</td>\n",
       "      <td>Apr 5, 1992</td>\n",
       "      <td>6-1</td>\n",
       "      <td>Mookie Blaylock</td>\n",
       "      <td>PG</td>\n",
       "      <td>1991-1992</td>\n",
       "      <td>1992</td>\n",
       "      <td>2</td>\n",
       "      <td>New Jersey Nets</td>\n",
       "      <td>190</td>\n",
       "      <td>East</td>\n",
       "    </tr>\n",
       "    <tr>\n",
       "      <th>4</th>\n",
       "      <td>26</td>\n",
       "      <td>Mar 14, 1993</td>\n",
       "      <td>6-2</td>\n",
       "      <td>Rumeal Robinson</td>\n",
       "      <td>PG</td>\n",
       "      <td>1992-1993</td>\n",
       "      <td>1993</td>\n",
       "      <td>2</td>\n",
       "      <td>New Jersey Nets</td>\n",
       "      <td>195</td>\n",
       "      <td>East</td>\n",
       "    </tr>\n",
       "  </tbody>\n",
       "</table>\n",
       "</div>"
      ],
      "text/plain": [
       "   Age          Date Height                  Player Position     Season  \\\n",
       "0   29  Apr 14, 1985    6-5  Micheal Ray Richardson       PG  1984-1985   \n",
       "1   29  Dec 30, 1984    6-5  Micheal Ray Richardson       PG  1984-1985   \n",
       "2   25  Nov 10, 1985    6-8           Buck Williams       PF  1985-1986   \n",
       "3   24   Apr 5, 1992    6-1         Mookie Blaylock       PG  1991-1992   \n",
       "4   26  Mar 14, 1993    6-2         Rumeal Robinson       PG  1992-1993   \n",
       "\n",
       "   Season short  Seasons in league             Team Weight Conferenc  \n",
       "0          1985                  6  New Jersey Nets    189      East  \n",
       "1          1985                  6  New Jersey Nets    189      East  \n",
       "2          1986                  4  New Jersey Nets    215      East  \n",
       "3          1992                  2  New Jersey Nets    190      East  \n",
       "4          1993                  2  New Jersey Nets    195      East  "
      ]
     },
     "execution_count": 7,
     "metadata": {},
     "output_type": "execute_result"
    }
   ],
   "source": [
    "data = pd.merge(df, conferenc, on=\"Team\")\n",
    "data = data.drop([\"Conference\", \"Real_value\", \"Draft Year\"], axis=1)\n",
    "data.head()"
   ]
  },
  {
   "cell_type": "code",
   "execution_count": 8,
   "metadata": {},
   "outputs": [
    {
     "name": "stdout",
     "output_type": "stream",
     "text": [
      "[198, 198, 207, 185, 188, 198, 182, 210, 192, 185, 188, 195, 195, 195, 195, 204, 198, 195, 204, 210, 195, 195, 195, 201, 201, 204, 201, 195, 201, 192, 192, 201, 201, 201, 201, 185, 201, 210, 210, 210, 201, 210, 210, 210, 213, 213, 182, 182, 185, 185, 185, 185, 182, 185, 182, 208, 185, 185, 201, 204, 204, 201, 204, 192, 204, 192, 155, 155, 219, 219, 219, 219, 204, 210, 210, 207, 207, 195, 186, 207, 186, 207, 207, 207, 182, 207, 182, 207, 182, 192, 192, 207, 207, 192, 155, 155, 207, 208, 208, 219, 210, 210, 210, 210, 210, 210, 210, 192, 210, 210, 210, 210, 210, 216, 201, 201, 216, 216, 216, 201, 216, 216, 216, 216, 201, 216, 216, 216, 201, 201, 216, 216, 201, 201, 201, 201, 201, 201, 216, 201, 216, 201, 201, 201, 201, 201, 201, 201, 201, 201, 201, 201, 213, 213, 213, 201, 201, 213, 201, 201, 201, 201, 213, 213, 213, 201, 201, 201, 201, 201, 210, 210, 210, 210, 210, 210, 213, 210, 213, 204, 204, 204, 204, 204, 210, 210, 204, 204, 204, 204, 204, 204, 185, 186, 186, 204, 204, 186, 204, 186, 204, 204, 185, 186, 204, 204, 210, 198, 179, 179, 179, 175, 175, 195, 198, 210, 210, 201, 185, 210, 210, 210, 210, 185, 185, 210, 210, 185, 195, 210, 210, 210, 185, 210, 210, 210, 210, 210, 210, 210, 210, 210, 210, 210, 185, 210, 210, 210, 186, 210, 210, 192, 210, 192, 210, 192, 185, 185, 203, 191, 192, 207, 204, 182, 198, 204, 198, 182, 204, 182, 182, 204, 210, 182, 192, 192, 201, 192, 192, 207, 192, 192, 210, 210, 210, 192, 204, 204, 192, 204, 204, 192, 192, 204, 192, 192, 192, 191, 191, 191, 206, 191, 191, 206, 201, 186, 195, 207, 195, 204, 213, 192, 213, 213, 213, 204, 188, 213, 213, 204, 204, 213, 195, 213, 213, 213, 213, 213, 213, 213, 213, 192, 213, 182, 204, 204, 204, 204, 204, 204, 204, 204, 213, 213, 219, 204, 219, 219, 219, 210, 204, 204, 204, 204, 204, 210, 204, 204, 210, 185, 188, 207, 185, 188, 185, 207, 186, 185, 185, 204, 204, 210, 210, 210, 201, 210, 201, 201, 201, 201, 201, 201, 201, 201, 201, 201, 201, 201, 201, 201, 201, 207, 201, 207, 207, 201, 201, 201, 207, 207, 201, 201, 201, 192, 192, 192, 192, 192, 192, 192, 192, 192, 179, 210, 204, 201, 201, 201, 188, 186, 201, 185, 213, 155, 155, 201, 192, 192, 222, 210, 207, 207, 207, 207, 207, 207, 207, 207, 207, 207, 207, 207, 207, 207, 207, 207, 207, 207, 207, 207, 207, 207, 207, 207, 207, 207, 192, 192, 192, 192, 207, 207, 207, 207, 207, 207, 207, 207, 203, 203, 208, 203, 203, 203, 203, 203, 203, 185, 185, 185, 192, 204, 192, 207, 207, 207, 185, 207, 207, 210, 210, 210, 192, 210, 210, 192, 192, 204, 198, 198, 192, 192, 186, 186, 211, 206, 210, 192, 192, 195, 204, 192, 198, 204, 198, 198, 182, 201, 185, 201, 213, 185, 185, 185, 192, 185, 192, 185, 186, 211, 203, 211, 186, 185, 204, 204, 204, 185, 185, 185, 195, 185, 185, 195, 195, 198, 185, 198, 185, 198, 198, 185, 204, 213, 213, 213, 213, 213, 201, 185, 213, 213, 213, 213, 213, 213, 213, 210, 201, 188, 219, 188, 198, 210, 210, 207, 207, 185, 185, 192, 207, 207, 201, 207, 207, 207, 207, 221, 185, 201, 201, 201, 201, 201, 201, 201, 182, 182, 182, 182, 198, 182, 182, 182, 182, 182, 182, 182, 182, 182, 182, 182, 182, 182, 182, 182, 182, 192, 192, 207, 201, 213, 208, 213, 213, 185, 185, 185, 185, 185, 185, 185, 185, 201, 201, 210, 201, 201, 182, 185, 185, 195, 195, 195, 195, 195, 204, 204, 188, 204, 188, 188, 192, 192, 204, 185, 204, 185, 192, 204, 192, 185, 192, 192, 192, 185, 185, 185, 192, 185, 185, 207, 198, 204, 225, 204, 225, 207, 186, 186, 204, 204, 204, 204, 210, 210, 210, 210, 210, 206, 193, 193, 193, 204, 204, 204, 204, 204, 204, 204, 204, 204, 204, 192, 222, 185, 186, 201, 201, 201, 201, 201, 186, 186, 186, 186, 186, 186, 192, 186, 186, 192, 191, 191, 191, 191, 192, 192, 216, 216, 216, 210, 216, 216, 207, 216, 216, 216, 216, 216, 216, 216, 216, 186, 216, 216, 186, 186, 186, 198, 186, 186, 186, 186, 186, 186, 186, 186, 186, 186, 186, 186, 186, 204, 188, 186, 201, 201, 188, 188, 188, 186, 201, 186, 188, 188, 188, 188, 186, 186, 186, 204, 186, 204, 201, 201, 211, 210, 204, 204, 198, 210, 210, 210, 210, 210, 210, 185, 210, 185, 188, 213, 188, 204, 213, 186, 186, 186, 186, 211, 213, 213, 213, 192, 210, 213, 213, 213, 213, 213, 204, 213, 213, 213, 201, 213, 192, 195, 192, 192, 192, 231, 207, 207, 207, 207, 231, 231, 207, 231, 231, 207, 231, 207, 185, 204, 192, 198, 198, 198, 198, 198, 198, 198, 198, 198, 196, 196, 196, 196, 196, 196, 183, 196, 196, 196, 186, 186, 207, 185, 185, 182, 185, 185, 185, 185, 201, 185, 195, 216, 195, 195, 195, 195, 195, 195, 195, 195, 195, 195, 195, 207, 195, 207, 207, 207, 195, 207, 195, 207, 207, 207, 207, 207, 207, 207, 195, 207, 207, 207, 207, 207, 186, 195, 207, 207, 195, 186, 195, 213, 193, 191, 191, 185, 207, 201, 201, 216, 216, 216, 216, 204, 207, 216, 204, 201, 182, 182, 207, 207, 207, 207, 207, 207, 186, 185, 185, 186, 186, 186, 186, 186, 182, 186, 182, 186, 186, 186, 186, 186, 186, 186, 186, 186, 186, 186, 213, 201, 201, 185, 201, 201, 207, 207, 207, 192, 185, 185, 185, 185, 207, 185, 186, 188, 186, 186, 186, 186, 186, 186, 186, 186, 186, 192, 186, 186, 186, 186, 186, 185, 185, 186, 185, 185, 185, 213, 213, 213, 201, 201, 201, 201, 201, 201, 201, 207, 186, 186, 188, 186, 186, 186, 186, 186, 185, 185, 185, 185, 185, 204, 201, 201, 201, 201, 201, 201, 201, 201, 201, 204, 201, 201, 201, 198, 192, 192, 192, 192, 204, 192, 192, 192, 210, 195, 195, 195, 195, 195, 186, 193, 193, 196, 186, 192, 182, 182, 182, 182, 210, 182, 182, 182, 182, 201, 213, 213, 213, 210, 210, 210, 216, 210, 216, 204, 204, 204, 201, 201, 204, 207, 204, 185, 185, 185, 210, 192, 210, 210, 210, 192, 210, 192, 192, 192, 210, 210, 192, 192, 210, 192, 210, 210, 210, 210, 210, 210, 210, 210, 210, 210, 192, 192, 210, 210, 210, 210, 192, 210, 210, 191, 191, 191, 191, 191, 191, 204, 213, 213, 192, 213, 185, 208, 208, 208, 211]\n"
     ]
    }
   ],
   "source": [
    "Height=[]\n",
    "for i in data[\"Height\"]:\n",
    "    if \"cm\" in i:\n",
    "        Height.append(int(float(i.replace('cm',''))))\n",
    "    else:\n",
    "        Height.append(int(float(i.replace('-','.'))*30.48))\n",
    "print(Height)"
   ]
  },
  {
   "cell_type": "code",
   "execution_count": 9,
   "metadata": {},
   "outputs": [
    {
     "name": "stdout",
     "output_type": "stream",
     "text": [
      "[85, 85, 96, 85, 87, 90, 75, 103, 83, 110, 81, 94, 94, 94, 94, 104, 85, 94, 104, 108, 94, 94, 94, 99, 99, 104, 99, 94, 99, 83, 83, 92, 92, 92, 83, 103, 83, 103, 114, 114, 100, 114, 114, 114, 119, 119, 78, 78, 112, 112, 112, 112, 78, 112, 78, 114, 79, 79, 99, 85, 85, 99, 85, 76, 85, 76, 73, 73, 117, 117, 117, 117, 92, 110, 110, 108, 108, 92, 108, 108, 108, 108, 108, 108, 74, 108, 74, 108, 74, 94, 94, 108, 108, 94, 87, 87, 102, 113, 113, 101, 114, 114, 114, 114, 114, 114, 114, 87, 114, 114, 114, 114, 114, 117, 85, 85, 146, 146, 146, 95, 146, 146, 146, 146, 95, 146, 146, 146, 95, 95, 146, 146, 95, 95, 95, 95, 95, 95, 146, 95, 146, 95, 95, 95, 95, 95, 95, 95, 95, 95, 95, 95, 112, 112, 128, 95, 95, 112, 95, 95, 95, 95, 112, 128, 128, 95, 95, 95, 95, 95, 99, 99, 99, 99, 99, 99, 103, 99, 103, 87, 105, 105, 105, 105, 119, 119, 105, 105, 105, 105, 105, 105, 130, 108, 108, 105, 105, 108, 105, 108, 105, 105, 83, 108, 105, 105, 117, 87, 83, 83, 83, 84, 84, 85, 93, 119, 119, 85, 76, 119, 119, 119, 119, 76, 76, 119, 119, 76, 92, 119, 119, 119, 76, 119, 119, 119, 119, 119, 119, 119, 119, 119, 119, 119, 76, 119, 105, 105, 112, 119, 119, 90, 119, 90, 119, 90, 130, 130, 102, 85, 76, 96, 96, 78, 87, 96, 96, 78, 96, 78, 78, 96, 110, 78, 96, 96, 101, 96, 96, 99, 83, 83, 110, 110, 110, 85, 96, 96, 85, 96, 96, 85, 85, 103, 85, 85, 85, 86, 86, 86, 109, 86, 86, 109, 104, 103, 94, 111, 94, 101, 110, 80, 110, 110, 110, 101, 83, 110, 110, 94, 94, 110, 94, 110, 110, 110, 110, 110, 110, 110, 110, 83, 110, 83, 90, 90, 90, 90, 90, 90, 90, 90, 110, 110, 117, 90, 117, 117, 117, 101, 101, 108, 108, 108, 108, 101, 108, 108, 101, 110, 83, 110, 110, 83, 110, 110, 96, 108, 96, 92, 92, 94, 108, 110, 96, 96, 96, 96, 96, 96, 96, 96, 96, 96, 96, 96, 96, 96, 96, 96, 96, 102, 96, 102, 102, 96, 96, 96, 102, 102, 96, 96, 96, 90, 90, 90, 90, 85, 85, 85, 85, 85, 81, 119, 103, 105, 105, 105, 83, 96, 83, 92, 110, 81, 81, 87, 90, 90, 117, 119, 112, 112, 112, 112, 112, 112, 112, 112, 112, 112, 112, 112, 112, 112, 112, 112, 112, 112, 112, 112, 112, 112, 112, 112, 112, 112, 86, 86, 86, 86, 112, 112, 112, 112, 112, 112, 112, 112, 113, 113, 114, 113, 113, 113, 113, 113, 113, 81, 81, 81, 85, 94, 85, 101, 101, 101, 103, 101, 101, 108, 108, 108, 94, 108, 108, 94, 94, 86, 92, 92, 93, 93, 125, 125, 127, 107, 99, 81, 83, 92, 101, 83, 92, 101, 92, 92, 74, 99, 89, 99, 117, 76, 112, 105, 83, 76, 83, 76, 99, 101, 106, 101, 103, 99, 92, 92, 92, 126, 126, 126, 81, 126, 126, 81, 81, 92, 105, 92, 105, 92, 92, 105, 92, 108, 108, 108, 108, 108, 83, 81, 108, 108, 108, 108, 108, 108, 108, 108, 92, 81, 117, 81, 87, 110, 110, 108, 108, 110, 110, 90, 108, 108, 101, 108, 108, 108, 108, 109, 96, 113, 113, 113, 90, 113, 113, 113, 74, 74, 74, 74, 94, 74, 74, 74, 74, 74, 74, 74, 74, 74, 74, 74, 74, 74, 74, 74, 74, 90, 90, 99, 85, 113, 104, 113, 113, 92, 92, 92, 81, 99, 81, 99, 81, 113, 113, 126, 113, 113, 67, 81, 81, 94, 94, 94, 94, 94, 102, 102, 81, 102, 81, 81, 80, 80, 102, 110, 102, 110, 80, 102, 80, 110, 80, 80, 80, 110, 110, 110, 85, 110, 108, 99, 83, 83, 112, 83, 112, 94, 105, 105, 117, 117, 117, 83, 99, 99, 99, 99, 99, 100, 95, 95, 95, 94, 94, 94, 94, 94, 94, 94, 94, 94, 94, 78, 125, 101, 103, 94, 94, 94, 94, 94, 117, 117, 117, 117, 117, 117, 87, 117, 117, 87, 88, 88, 88, 88, 83, 83, 112, 112, 112, 99, 112, 112, 92, 112, 112, 112, 112, 112, 112, 112, 112, 112, 112, 112, 112, 112, 112, 87, 112, 112, 112, 112, 112, 112, 112, 112, 112, 112, 112, 112, 112, 90, 83, 112, 92, 92, 83, 83, 83, 112, 92, 112, 83, 83, 83, 83, 112, 112, 112, 103, 117, 103, 104, 104, 118, 101, 94, 94, 96, 110, 110, 110, 110, 110, 110, 103, 110, 103, 87, 117, 87, 89, 117, 121, 121, 121, 121, 122, 114, 114, 114, 76, 101, 114, 114, 114, 114, 114, 94, 114, 114, 114, 113, 114, 87, 85, 87, 87, 87, 139, 94, 94, 94, 94, 139, 139, 94, 139, 139, 94, 139, 94, 88, 89, 85, 99, 99, 99, 99, 99, 99, 99, 99, 99, 100, 100, 100, 100, 100, 100, 79, 100, 100, 100, 103, 103, 102, 99, 108, 78, 108, 108, 108, 108, 90, 103, 99, 146, 99, 99, 99, 99, 99, 99, 99, 99, 99, 99, 99, 112, 99, 112, 112, 112, 99, 112, 99, 112, 112, 112, 112, 112, 112, 112, 99, 112, 112, 112, 112, 112, 105, 99, 112, 112, 99, 105, 99, 120, 100, 86, 86, 81, 103, 102, 102, 146, 146, 146, 146, 87, 103, 146, 87, 102, 76, 76, 94, 94, 94, 94, 94, 101, 119, 99, 99, 119, 119, 119, 119, 119, 85, 119, 85, 119, 119, 119, 119, 119, 119, 119, 119, 119, 119, 119, 117, 112, 112, 108, 112, 112, 102, 102, 102, 96, 89, 82, 82, 82, 90, 83, 108, 81, 108, 108, 108, 108, 108, 108, 108, 108, 108, 83, 108, 108, 108, 108, 108, 130, 130, 138, 112, 112, 89, 109, 111, 111, 99, 99, 99, 99, 99, 99, 99, 94, 105, 105, 84, 105, 105, 105, 105, 105, 88, 88, 78, 88, 88, 99, 100, 100, 100, 100, 100, 100, 100, 100, 100, 86, 96, 96, 98, 82, 85, 85, 85, 85, 102, 85, 85, 85, 105, 94, 94, 94, 94, 94, 108, 95, 95, 94, 116, 96, 78, 78, 78, 78, 112, 78, 78, 78, 78, 97, 112, 112, 112, 117, 117, 117, 114, 117, 116, 99, 99, 99, 101, 101, 99, 99, 99, 130, 130, 82, 108, 90, 108, 108, 108, 90, 108, 90, 90, 90, 108, 108, 90, 90, 108, 90, 108, 108, 108, 108, 108, 108, 108, 108, 108, 108, 90, 90, 108, 108, 108, 108, 90, 108, 108, 91, 91, 91, 91, 91, 91, 108, 120, 120, 90, 120, 113, 115, 115, 115, 122]\n"
     ]
    }
   ],
   "source": [
    "Weight=[]\n",
    "for item in data[\"Weight\"]:\n",
    "    if 'kg' in item:\n",
    "        Weight.append(int(item.lower().replace('kg','')))\n",
    "    else:\n",
    "        Weight.append(int(int(item)*0.45))\n",
    "print(Weight)\n",
    "#[int(item.lower().replace('kg','')) if 'kg' in item else int(int(item)*0.45) for item in (data['Weight']).unique()]"
   ]
  },
  {
   "cell_type": "code",
   "execution_count": 11,
   "metadata": {},
   "outputs": [
    {
     "ename": "NameError",
     "evalue": "name 'Weight' is not defined",
     "output_type": "error",
     "traceback": [
      "\u001b[1;31m---------------------------------------------------------------------------\u001b[0m",
      "\u001b[1;31mNameError\u001b[0m                                 Traceback (most recent call last)",
      "\u001b[1;32m<ipython-input-11-bcf3abc30992>\u001b[0m in \u001b[0;36m<module>\u001b[1;34m\u001b[0m\n\u001b[1;32m----> 1\u001b[1;33m \u001b[0mdata\u001b[0m\u001b[1;33m[\u001b[0m\u001b[1;34m\"Weight\"\u001b[0m\u001b[1;33m]\u001b[0m\u001b[1;33m=\u001b[0m\u001b[0mWeight\u001b[0m\u001b[1;33m\u001b[0m\u001b[0m\n\u001b[0m\u001b[0;32m      2\u001b[0m \u001b[0mdata\u001b[0m\u001b[1;33m[\u001b[0m\u001b[1;34m\"Height\"\u001b[0m\u001b[1;33m]\u001b[0m\u001b[1;33m=\u001b[0m\u001b[0mHeight\u001b[0m\u001b[1;33m\u001b[0m\u001b[0m\n\u001b[0;32m      3\u001b[0m \u001b[0mdata\u001b[0m\u001b[1;33m.\u001b[0m\u001b[0mhead\u001b[0m\u001b[1;33m(\u001b[0m\u001b[1;33m)\u001b[0m\u001b[1;33m\u001b[0m\u001b[0m\n",
      "\u001b[1;31mNameError\u001b[0m: name 'Weight' is not defined"
     ]
    }
   ],
   "source": [
    "data[\"Weight\"]=Weight\n",
    "data[\"Height\"]=Height\n",
    "data.head()"
   ]
  },
  {
   "cell_type": "code",
   "execution_count": 6,
   "metadata": {},
   "outputs": [
    {
     "name": "stderr",
     "output_type": "stream",
     "text": [
      "c:\\users\\pablo\\appdata\\local\\programs\\python\\python37\\lib\\site-packages\\pandas\\core\\internals.py:3714: FutureWarning: Passing in 'datetime64' dtype with no frequency is deprecated and will raise in a future version. Please pass in 'datetime64[ns]' instead.\n",
      "  return self.apply('astype', dtype=dtype, **kwargs)\n"
     ]
    },
    {
     "data": {
      "text/plain": [
       "Age                           int64\n",
       "Date                         object\n",
       "Draft Year           datetime64[ns]\n",
       "Height                        int64\n",
       "Player                       object\n",
       "Position                     object\n",
       "Season                       object\n",
       "Season short         datetime64[ns]\n",
       "Seasons in league             int64\n",
       "Team                         object\n",
       "Weight                        int64\n",
       "Real_value                  float64\n",
       "Conferenc                    object\n",
       "dtype: object"
      ]
     },
     "execution_count": 6,
     "metadata": {},
     "output_type": "execute_result"
    }
   ],
   "source": [
    "data[\"Weight\"] = data[\"Weight\"].astype(\"int64\")\n",
    "data[\"Draft Year\"] = data[\"Draft Year\"].astype(\"datetime64\")\n",
    "data[\"Season short\"] = data[\"Season short\"].astype(\"datetime64\")\n",
    "data.dtypes"
   ]
  },
  {
   "cell_type": "code",
   "execution_count": null,
   "metadata": {},
   "outputs": [],
   "source": [
    "year = int(input(\"En que año: \"))\n",
    "weight = int(input(\"Altura máxima [cm]: \"))\n",
    "title = \"Más veces mejores jugadores de la semana \" + str(year)"
   ]
  },
  {
   "cell_type": "code",
   "execution_count": null,
   "metadata": {},
   "outputs": [],
   "source": [
    "def acquire():\n",
    "    data = pd.read_csv(\"NBA_player_of_the_week.csv\")\n",
    "    df = pd.read_csv(\"NBA_player_of_the_week.csv\")\n",
    "    conferenc = pd.read_csv(\"conferenc.csv\")\n",
    "    data = pd.merge(df, conferenc, on=\"Team\")\n",
    "    data = data.drop(\"Conference\", axis=1)\n",
    "    return data"
   ]
  },
  {
   "cell_type": "code",
   "execution_count": null,
   "metadata": {},
   "outputs": [],
   "source": [
    "def wrangle(data, year, weight):\n",
    "    filtered = data[(data[\"Season short\"]==\"year\") & (data[\"Weight\"]<=\"weight\")]\n",
    "    return filtered\n",
    "print(wrangle(data, 2000, 200))"
   ]
  },
  {
   "cell_type": "code",
   "execution_count": null,
   "metadata": {},
   "outputs": [],
   "source": [
    "def visualize(filtered):\n",
    "    fig, ax = plt.subplots(figsize=(15,8))\n",
    "    barchart = sns.barplot(data=results, x=\"Player\", y=\"Age\")\n",
    "    plt.title(title + \"\\n\", fontsize=16)\n",
    "    return barchart\n"
   ]
  },
  {
   "cell_type": "code",
   "execution_count": null,
   "metadata": {},
   "outputs": [],
   "source": [
    "def save_viz(barchart):\n",
    "    fig = barchart.get_figure()\n",
    "    fig.savefig(title + '.png')\n"
   ]
  }
 ],
 "metadata": {
  "kernelspec": {
   "display_name": "Python 3",
   "language": "python",
   "name": "python3"
  },
  "language_info": {
   "codemirror_mode": {
    "name": "ipython",
    "version": 3
   },
   "file_extension": ".py",
   "mimetype": "text/x-python",
   "name": "python",
   "nbconvert_exporter": "python",
   "pygments_lexer": "ipython3",
   "version": "3.7.0"
  }
 },
 "nbformat": 4,
 "nbformat_minor": 2
}
