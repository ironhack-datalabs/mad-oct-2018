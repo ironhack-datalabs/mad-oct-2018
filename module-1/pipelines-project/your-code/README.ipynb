{
 "cells": [
  {
   "cell_type": "markdown",
   "metadata": {},
   "source": [
    "# Guided Project: Web Data Pipeline"
   ]
  },
  {
   "cell_type": "markdown",
   "metadata": {},
   "source": [
    "## Step 1: Acquisition\n",
    "- What data do I need?\n",
    "- Where is that data stored (in files, in a database, etc.)?\n",
    "- How can I access it (do you need certain permissions)?\n",
    "\n",
    "I selected the Countries of the World data set from [Kaggle Data Sets](https://www.kaggle.com/fernandol/countries-of-the-world), which is the same data set I used for the Pandas Project. This data set has data for all countries in the world. \n",
    "\n",
    "For this project, I want to find the 3 regions with the highest GDP per capita in 2010 and I want this to be updated every year going forward.\n",
    "\n",
    "I downloaded the data from Kaggle, which was as a CSV file.\n",
    "\n",
    "I imported the pandas library.\n",
    "\n",
    "I defined a function to import the csv file."
   ]
  },
  {
   "cell_type": "code",
   "execution_count": null,
   "metadata": {},
   "outputs": [],
   "source": [
    "import pandas as pd"
   ]
  },
  {
   "cell_type": "code",
   "execution_count": null,
   "metadata": {},
   "outputs": [],
   "source": [
    "def acquire():\n",
    "    data = pd.read_csv('./Data/countries of the world.csv')\n",
    "    return data"
   ]
  },
  {
   "cell_type": "markdown",
   "metadata": {},
   "source": [
    "## Step 2: Data Wrangling\n",
    "- Does this data need to be cleaned? If so, how?\n",
    "- What steps are necessary to get this data ready for analysis?\n",
    "\n",
    "I defined a function to include only data for a specific year."
   ]
  },
  {
   "cell_type": "code",
   "execution_count": null,
   "metadata": {},
   "outputs": [],
   "source": [
    "def wrangle(data, year):\n",
    "    return data[data['Year']==year]"
   ]
  },
  {
   "cell_type": "markdown",
   "metadata": {},
   "source": [
    "## Step 3: Data Analysis\n",
    "- What analytical methods do I need to apply to arrive at my deliverable?\n",
    "\n",
    "To find the 3 regions with highest GDP per capita in a specific year, I will use the 'Region' field which  tells us the region each country is in and the 'GDP ($ per capita)' field which tells us the GDP per capita for each country.\n",
    "\n",
    "To do the analysis and find the results, I defined a function with the following:\n",
    "- Group by Region \n",
    "- Find Average GDP per capita by region\n",
    "- Sort by Sverage GDP per capita by region\n",
    "- Show the top 3 results "
   ]
  },
  {
   "cell_type": "code",
   "execution_count": null,
   "metadata": {},
   "outputs": [],
   "source": [
    "def analyze(filtered):\n",
    "    grouped_region = data.groupby('Region')\n",
    "    mean_region = grouped_region.agg({'GDP ($ per capita)':'mean'}).reset_index()\n",
    "    results_region = mean_region.sort_values('GDP ($ per capita)', ascending=False).head(3)\n",
    "    return results_region"
   ]
  },
  {
   "cell_type": "markdown",
   "metadata": {},
   "source": [
    "## Step 4: Data Reporting\n",
    "- How can I best communicate the information I need to deliver?\n",
    "- Does this process need to be repeated and if so, how often?\n",
    "\n",
    "To show a better and more visual representation of the data, I decided to create a bar chart of the results.\n",
    "\n",
    "I imported pyplot and seaborn to create the bar chart.\n",
    "\n",
    "I defined the following function and if condition."
   ]
  },
  {
   "cell_type": "code",
   "execution_count": null,
   "metadata": {},
   "outputs": [],
   "source": [
    "import matplotlib.pyplot as plt\n",
    "import seaborn as sns"
   ]
  },
  {
   "cell_type": "code",
   "execution_count": null,
   "metadata": {},
   "outputs": [],
   "source": [
    "def reporting(gdpregions, title):\n",
    "    fig, ax = plt.subplots(figsize=(5,10))\n",
    "    barchart = sns.barplot(data=gdpregions, x='Region', y='GDP ($ per capita)')\n",
    "    plt.title(title + \"\\n\", fontsize=16)\n",
    "    fig = barchart.get_figure()\n",
    "    fig.savefig(title + '.png')\n",
    "\n",
    "if __name__ == '__main__':\n",
    "    year = int(input('Enter the year: '))\n",
    "    title = 'Top 3 Regions by GDP per capita ' + str(year)\n",
    "    data = acquire()\n",
    "    filtered = wrangle(data, year)\n",
    "    results = analyze(filtered)\n",
    "    reporting(results, title)"
   ]
  }
 ],
 "metadata": {
  "kernelspec": {
   "display_name": "Python 3",
   "language": "python",
   "name": "python3"
  },
  "language_info": {
   "codemirror_mode": {
    "name": "ipython",
    "version": 3
   },
   "file_extension": ".py",
   "mimetype": "text/x-python",
   "name": "python",
   "nbconvert_exporter": "python",
   "pygments_lexer": "ipython3",
   "version": "3.7.0"
  }
 },
 "nbformat": 4,
 "nbformat_minor": 2
}
