{
 "cells": [
  {
   "cell_type": "markdown",
   "metadata": {},
   "source": [
    "# Guided Project: API and Web Data Scraping\n",
    "## Part 1: API\n",
    "- I started the project by looking for an API in [Public APIs](https://github.com/toddmotto/public-apis) and I selected the twitter API.\n",
    "- Went to Twitter and created a developer account\n",
    "- I setup a new app in twitter and got my credentials\n",
    "- In order to keep my credentials safe, I created the following documents:\n",
    "  - a file called .env in visual code were I created variables to assign tockens to\n",
    "  - a file called .gitignore in visual code were I included the .env file to \"protect\" the tokens and for this info to not be uploaded to GitHub \n",
    "  - a file called loadCredentials.py to read the .env file\n"
   ]
  },
  {
   "cell_type": "code",
   "execution_count": 6,
   "metadata": {},
   "outputs": [
    {
     "ename": "ValueError",
     "evalue": "env var 'TWITTER_API_KEY' does not exist. Please create a .env file containing it",
     "output_type": "error",
     "traceback": [
      "\u001b[0;31m---------------------------------------------------------------------------\u001b[0m",
      "\u001b[0;31mValueError\u001b[0m                                Traceback (most recent call last)",
      "\u001b[0;32m<ipython-input-6-8a1840f61cf4>\u001b[0m in \u001b[0;36m<module>\u001b[0;34m\u001b[0m\n\u001b[1;32m      1\u001b[0m \u001b[0;32mimport\u001b[0m \u001b[0mtweepy\u001b[0m\u001b[0;34m\u001b[0m\u001b[0m\n\u001b[1;32m      2\u001b[0m \u001b[0;32mfrom\u001b[0m \u001b[0mloadCredentials\u001b[0m \u001b[0;32mimport\u001b[0m \u001b[0mloadCredentials\u001b[0m\u001b[0;34m\u001b[0m\u001b[0m\n\u001b[0;32m----> 3\u001b[0;31m \u001b[0mcred\u001b[0m \u001b[0;34m=\u001b[0m \u001b[0mloadCredentials\u001b[0m\u001b[0;34m(\u001b[0m\u001b[0;34m[\u001b[0m\u001b[0;34m\"TWITTER_API_KEY\"\u001b[0m\u001b[0;34m,\u001b[0m\u001b[0;34m\"TWITTER_API_SECRET\"\u001b[0m\u001b[0;34m,\u001b[0m\u001b[0;34m\"TWITTER_ACCESS_TOKEN\"\u001b[0m\u001b[0;34m,\u001b[0m\u001b[0;34m\"TWITTER_ACCESS_TOKEN_SECRET\"\u001b[0m\u001b[0;34m]\u001b[0m\u001b[0;34m)\u001b[0m\u001b[0;34m\u001b[0m\u001b[0m\n\u001b[0m\u001b[1;32m      4\u001b[0m \u001b[0;34m\u001b[0m\u001b[0m\n\u001b[1;32m      5\u001b[0m \u001b[0mauth\u001b[0m \u001b[0;34m=\u001b[0m \u001b[0mtweepy\u001b[0m\u001b[0;34m.\u001b[0m\u001b[0mOAuthHandler\u001b[0m\u001b[0;34m(\u001b[0m\u001b[0mcred\u001b[0m\u001b[0;34m[\u001b[0m\u001b[0;34m\"TWITTER_API_KEY\"\u001b[0m\u001b[0;34m]\u001b[0m\u001b[0;34m,\u001b[0m \u001b[0mcred\u001b[0m\u001b[0;34m[\u001b[0m\u001b[0;34m\"TWITTER_API_SECRET\"\u001b[0m\u001b[0;34m]\u001b[0m\u001b[0;34m)\u001b[0m\u001b[0;34m\u001b[0m\u001b[0m\n",
      "\u001b[0;32m~/Documents/IronHack/madrid-oct-2018/module-1/web-project/your-code/loadCredentials.py\u001b[0m in \u001b[0;36mloadCredentials\u001b[0;34m(loadVars)\u001b[0m\n\u001b[1;32m      8\u001b[0m         \u001b[0mobj\u001b[0m\u001b[0;34m[\u001b[0m\u001b[0mv\u001b[0m\u001b[0;34m]\u001b[0m \u001b[0;34m=\u001b[0m \u001b[0mos\u001b[0m\u001b[0;34m.\u001b[0m\u001b[0mgetenv\u001b[0m\u001b[0;34m(\u001b[0m\u001b[0mv\u001b[0m\u001b[0;34m)\u001b[0m\u001b[0;34m\u001b[0m\u001b[0m\n\u001b[1;32m      9\u001b[0m         \u001b[0;32mif\u001b[0m \u001b[0;32mnot\u001b[0m \u001b[0mobj\u001b[0m\u001b[0;34m[\u001b[0m\u001b[0mv\u001b[0m\u001b[0;34m]\u001b[0m\u001b[0;34m:\u001b[0m\u001b[0;34m\u001b[0m\u001b[0m\n\u001b[0;32m---> 10\u001b[0;31m             \u001b[0;32mraise\u001b[0m \u001b[0mValueError\u001b[0m\u001b[0;34m(\u001b[0m\u001b[0;34m\"env var '%s' does not exist. Please create a .env file containing it\"\u001b[0m \u001b[0;34m%\u001b[0m \u001b[0;34m(\u001b[0m\u001b[0mv\u001b[0m\u001b[0;34m)\u001b[0m\u001b[0;34m)\u001b[0m\u001b[0;34m\u001b[0m\u001b[0m\n\u001b[0m\u001b[1;32m     11\u001b[0m     \u001b[0;32mreturn\u001b[0m \u001b[0mobj\u001b[0m\u001b[0;34m\u001b[0m\u001b[0m\n\u001b[1;32m     12\u001b[0m \u001b[0;34m\u001b[0m\u001b[0m\n",
      "\u001b[0;31mValueError\u001b[0m: env var 'TWITTER_API_KEY' does not exist. Please create a .env file containing it"
     ]
    }
   ],
   "source": [
    "import tweepy\n",
    "from loadCredentials import loadCredentials\n",
    "cred = loadCredentials([\"TWITTER_API_KEY\",\"TWITTER_API_SECRET\",\"TWITTER_ACCESS_TOKEN\",\"TWITTER_ACCESS_TOKEN_SECRET\"])\n",
    "\n",
    "auth = tweepy.OAuthHandler(cred[\"TWITTER_API_KEY\"], cred[\"TWITTER_API_SECRET\"])\n",
    "auth.set_access_token(cred[\"TWITTER_ACCESS_TOKEN\"], cred[\"TWITTER_ACCESS_TOKEN_SECRET\"])\n",
    "api = tweepy.API(auth)"
   ]
  },
  {
   "cell_type": "code",
   "execution_count": 3,
   "metadata": {},
   "outputs": [],
   "source": []
  },
  {
   "cell_type": "code",
   "execution_count": null,
   "metadata": {},
   "outputs": [],
   "source": []
  }
 ],
 "metadata": {
  "kernelspec": {
   "display_name": "Python 3",
   "language": "python",
   "name": "python3"
  },
  "language_info": {
   "codemirror_mode": {
    "name": "ipython",
    "version": 3
   },
   "file_extension": ".py",
   "mimetype": "text/x-python",
   "name": "python",
   "nbconvert_exporter": "python",
   "pygments_lexer": "ipython3",
   "version": "3.7.0"
  }
 },
 "nbformat": 4,
 "nbformat_minor": 2
}
