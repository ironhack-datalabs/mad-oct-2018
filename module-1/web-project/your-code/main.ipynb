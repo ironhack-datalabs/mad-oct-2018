{
 "cells": [
  {
   "cell_type": "code",
   "execution_count": 2,
   "metadata": {},
   "outputs": [
    {
     "name": "stdout",
     "output_type": "stream",
     "text": [
      "Enter the IP: 212.170.222.26\n"
     ]
    },
    {
     "data": {
      "text/plain": [
       "True"
      ]
     },
     "execution_count": 2,
     "metadata": {},
     "output_type": "execute_result"
    }
   ],
   "source": [
    "import pandas as pd\n",
    "import json\n",
    "import requests\n",
    "import webbrowser\n",
    "\n",
    "IP = input(\"Enter the IP: \")\n",
    "\n",
    "response = requests.get(\"https://ipinfo.io/\"+IP+\"/geo\")\n",
    "results = response.json()\n",
    "df = pd.DataFrame(results, index=[\"\"])\n",
    "loc = df[\"loc\"]\n",
    "a = loc.to_string()\n",
    "webbrowser.open(\"https://www.google.com/maps/search/?api=1&query=\" + a)"
   ]
  }
 ],
 "metadata": {
  "kernelspec": {
   "display_name": "Python 3",
   "language": "python",
   "name": "python3"
  },
  "language_info": {
   "codemirror_mode": {
    "name": "ipython",
    "version": 3
   },
   "file_extension": ".py",
   "mimetype": "text/x-python",
   "name": "python",
   "nbconvert_exporter": "python",
   "pygments_lexer": "ipython3",
   "version": "3.7.0"
  }
 },
 "nbformat": 4,
 "nbformat_minor": 2
}
