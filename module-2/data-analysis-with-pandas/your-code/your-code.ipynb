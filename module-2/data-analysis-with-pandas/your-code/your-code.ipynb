{
 "cells": [
  {
   "cell_type": "markdown",
   "metadata": {},
   "source": [
    "# Guided Project: Data Analysis with Pandas\n",
    "\n",
    "## Step 1\n",
    "Find a data set to process - a great place to start looking would be Awesome Public Data Sets, Kaggle Data Sets, or the UCI Machine Learning Repository. A great new source is the Google dataset search.\n",
    "\n",
    "## Step 2\n",
    "Perform Preliminary Analysis - use functions like describe to help uncover interesting insights about your dataset.\n",
    "Use the tools in your tool kit - Using tools like calculated columns and pivot tables, discover and desribe the insights you have found.\n",
    "Consult documentation and resources provided to better understand the tools you are using and how to accomplish what you want.\n",
    "\n",
    "## Step 3 \n"
   ]
  },
  {
   "cell_type": "code",
   "execution_count": null,
   "metadata": {},
   "outputs": [],
   "source": []
  }
 ],
 "metadata": {
  "kernelspec": {
   "display_name": "Python 3",
   "language": "python",
   "name": "python3"
  },
  "language_info": {
   "codemirror_mode": {
    "name": "ipython",
    "version": 3
   },
   "file_extension": ".py",
   "mimetype": "text/x-python",
   "name": "python",
   "nbconvert_exporter": "python",
   "pygments_lexer": "ipython3",
   "version": "3.7.0"
  }
 },
 "nbformat": 4,
 "nbformat_minor": 2
}
