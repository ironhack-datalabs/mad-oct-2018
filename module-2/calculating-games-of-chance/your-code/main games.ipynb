{
 "cells": [
  {
   "cell_type": "code",
   "execution_count": 28,
   "metadata": {},
   "outputs": [],
   "source": [
    "import pandas as pd\n",
    "import numpy as np\n",
    "import scipy \n",
    "from scipy.misc import comb"
   ]
  },
  {
   "cell_type": "code",
   "execution_count": 50,
   "metadata": {},
   "outputs": [],
   "source": [
    "#Odds: la relación entre la probabilidad de que ocurra un evento y la probabilidad de que no ocurra ese evento. \n",
    "def odds(prob):\n",
    "    return(prob/(1-prob))"
   ]
  },
  {
   "cell_type": "markdown",
   "metadata": {},
   "source": [
    "## Blackjack"
   ]
  },
  {
   "cell_type": "code",
   "execution_count": 46,
   "metadata": {},
   "outputs": [
    {
     "name": "stdout",
     "output_type": "stream",
     "text": [
      "Probabilidad de blackjack:  0.012066365007541479\n",
      "Odds blackjack:  0.012213740458015267\n"
     ]
    }
   ],
   "source": [
    "#Probabilidad de que 2 cartas sumen 21 con una sola baraja. \n",
    "# Tenemos 16 combinaciones :(AS+J), (AS+K), (AS+Q), (AS+10), combinadas 4x4 = 16. Nos es indiferente el palo. \n",
    "bj_prob = 16/ scipy.special.comb(52, 2)\n",
    "bj_prob_odds = odds(bj_prob)\n",
    "print('Probabilidad de blackjack: ', bj_prob)\n",
    "print('Odds blackjack: ', bj_prob_odds)"
   ]
  },
  {
   "cell_type": "code",
   "execution_count": 47,
   "metadata": {},
   "outputs": [
    {
     "name": "stdout",
     "output_type": "stream",
     "text": [
      "Probabilidad de blackjack:  0.002987303958177745\n",
      "Odds blackjack:  0.012213740458015267\n"
     ]
    }
   ],
   "source": [
    "#Probabilidad de que 2 cartas sumen  21 con dos barajas. \n",
    "# Tenemos 16 combinaciones :(AS+J), (AS+K), (AS+Q), (AS+10), combinadas 4x4 = 16. Nos es indiferente el palo. \n",
    "bj_prob2 = 16/ scipy.special.comb(104, 2)\n",
    "bj_prob_odds2 = odds(bj_prob)\n",
    "print('Probabilidad de blackjack: ', bj_prob2)\n",
    "print('Odds blackjack: ', bj_prob_odds2)"
   ]
  },
  {
   "cell_type": "markdown",
   "metadata": {},
   "source": [
    "## Roulette"
   ]
  },
  {
   "cell_type": "code",
   "execution_count": 44,
   "metadata": {},
   "outputs": [
    {
     "name": "stdout",
     "output_type": "stream",
     "text": [
      "Probabilidad de rojo en Roulette:  0.4864864864864865\n",
      "Odds rojo Roulette:  0.9473684210526316\n"
     ]
    }
   ],
   "source": [
    "# Probabilidad de que salga rojo. \n",
    "# Existen 37 posibilidades en la ruleta, de las cuáles 18 son rojas. \n",
    "r_prob = 18/ scipy.special.comb(37, 1)\n",
    "r_prob_odds = odds(r_prob)\n",
    "print('Probabilidad de rojo en Roulette: ', r_prob)\n",
    "print('Odds rojo Roulette: ', r_prob_odds)"
   ]
  },
  {
   "cell_type": "code",
   "execution_count": 51,
   "metadata": {},
   "outputs": [
    {
     "name": "stdout",
     "output_type": "stream",
     "text": [
      "Probabilidad de rojo en Roulette:  0.16216216216216217\n",
      "Odds rojo Roulette:  0.9473684210526316\n"
     ]
    }
   ],
   "source": [
    "# Probabilidad de Seisena (6 números consecutivos). \n",
    "# Existen 37 posibilidades en la ruleta, solo 6 podrán ser los números consecutivos. \n",
    "r_prob2 = 6/ scipy.special.comb(37, 1)\n",
    "r_prob_odds2 = odds(r_prob)\n",
    "print('Probabilidad de rojo en Roulette: ', r_prob2)\n",
    "print('Odds rojo Roulette: ', r_prob_odds2)"
   ]
  }
 ],
 "metadata": {
  "kernelspec": {
   "display_name": "Python 3",
   "language": "python",
   "name": "python3"
  },
  "language_info": {
   "codemirror_mode": {
    "name": "ipython",
    "version": 3
   },
   "file_extension": ".py",
   "mimetype": "text/x-python",
   "name": "python",
   "nbconvert_exporter": "python",
   "pygments_lexer": "ipython3",
   "version": "3.6.6"
  }
 },
 "nbformat": 4,
 "nbformat_minor": 2
}
