{
 "cells": [
  {
   "cell_type": "code",
   "execution_count": 119,
   "metadata": {},
   "outputs": [
    {
     "data": {
      "text/plain": [
       "[2, 3, 4, 5, 6, 7, 8, 9, 10, 10, 10, 10, 11]"
      ]
     },
     "execution_count": 119,
     "metadata": {},
     "output_type": "execute_result"
    }
   ],
   "source": [
    "a = [1, 2, 3, 4, 5, 6, 7, 8, 9, 10, 10, 10, 10, 11]\n",
    "a "
   ]
  },
  {
   "cell_type": "code",
   "execution_count": 120,
   "metadata": {},
   "outputs": [
    {
     "data": {
      "text/plain": [
       "380"
      ]
     },
     "execution_count": 120,
     "metadata": {},
     "output_type": "execute_result"
    }
   ],
   "source": [
    "b = sum([4*a[i] for i in range(len(a))])\n",
    "b"
   ]
  },
  {
   "cell_type": "code",
   "execution_count": 121,
   "metadata": {},
   "outputs": [
    {
     "name": "stdout",
     "output_type": "stream",
     "text": [
      "16\n",
      "225\n",
      "0.07111111111111111\n"
     ]
    }
   ],
   "source": [
    "res = []\n",
    "for x in range(1, 3): \n",
    "    for i in a: \n",
    "        for j in a:\n",
    "            if i+j == 21: \n",
    "                    res.append((i,j))\n",
    "print(len(res))\n",
    "print(15**2)\n",
    "z = len(res)/15**2\n",
    "print(z)"
   ]
  },
  {
   "cell_type": "code",
   "execution_count": 122,
   "metadata": {},
   "outputs": [
    {
     "name": "stdout",
     "output_type": "stream",
     "text": [
      "435\n",
      "3375\n",
      "0.1288888888888889\n"
     ]
    }
   ],
   "source": [
    "res = []\n",
    "for x in range(1, 4): \n",
    "    for i in a: \n",
    "        for j in a:\n",
    "            for k in a:\n",
    "                if i+j+k == 21: \n",
    "                    res.append((i,j,k))\n",
    "print(len(res))\n",
    "print(15**3)\n",
    "y = len(res)/15**3\n",
    "print(y)"
   ]
  },
  {
   "cell_type": "code",
   "execution_count": 123,
   "metadata": {},
   "outputs": [
    {
     "name": "stdout",
     "output_type": "stream",
     "text": [
      "2928\n",
      "50625\n",
      "0.057837037037037034\n"
     ]
    }
   ],
   "source": [
    "res = []\n",
    "for x in range(1, 5): \n",
    "    for i in a: \n",
    "        for j in a:\n",
    "            for k in a:\n",
    "                for l in a:\n",
    "                    if i+j+k+l == 21: \n",
    "                        res.append((i,j,k,l))\n",
    "print(len(res))\n",
    "print(15**4)\n",
    "aa = len(res)/15**4\n",
    "print(aa)"
   ]
  },
  {
   "cell_type": "code",
   "execution_count": 124,
   "metadata": {},
   "outputs": [
    {
     "name": "stdout",
     "output_type": "stream",
     "text": [
      "8200\n",
      "759375\n",
      "0.01079835390946502\n"
     ]
    }
   ],
   "source": [
    "res = []\n",
    "for x in range(1, 6): \n",
    "    for i in a: \n",
    "        for j in a:\n",
    "            for k in a:\n",
    "                for l in a:\n",
    "                        for m in a:\n",
    "                            if i+j+k+l+m == 21: \n",
    "                                res.append((i,j,k,l,m))\n",
    "print(len(res))\n",
    "print(15**5)\n",
    "w = len(res)/15**5\n",
    "print(w)"
   ]
  },
  {
   "cell_type": "code",
   "execution_count": 125,
   "metadata": {},
   "outputs": [
    {
     "name": "stdout",
     "output_type": "stream",
     "text": [
      "9840\n",
      "759375\n",
      "0.012958024691358025\n"
     ]
    }
   ],
   "source": [
    "res = []\n",
    "for x in range(1, 7): \n",
    "    for i in a: \n",
    "        for j in a:\n",
    "            for k in a:\n",
    "                for l in a:\n",
    "                        for m in a:\n",
    "                            if i+j+k+l+m == 21: \n",
    "                                res.append((i,j,k,l,m))\n",
    "print(len(res))\n",
    "print(15**5)\n",
    "v = len(res)/15**5\n",
    "print(v)"
   ]
  },
  {
   "cell_type": "code",
   "execution_count": 141,
   "metadata": {},
   "outputs": [
    {
     "name": "stdout",
     "output_type": "stream",
     "text": [
      "12552\n",
      "11390625\n",
      "0.0011019588477366256\n"
     ]
    }
   ],
   "source": [
    "res = []\n",
    "for x in range(1, 7): \n",
    "    for i in a: \n",
    "        for j in a:\n",
    "            for k in a:\n",
    "                for l in a:\n",
    "                        for m in a:\n",
    "                            for o in a:\n",
    "                                if i+j+k+l+m+o == 21: \n",
    "                                    res.append((i,j,k,l,m,o))\n",
    "print(len(res))\n",
    "print(15**6)\n",
    "vv = len(res)/15**6\n",
    "print(vv)"
   ]
  },
  {
   "cell_type": "code",
   "execution_count": 126,
   "metadata": {},
   "outputs": [],
   "source": [
    "import numpy as np\n",
    "%matplotlib inline\n",
    "import matplotlib\n",
    "import matplotlib.pyplot as plt"
   ]
  },
  {
   "cell_type": "code",
   "execution_count": 145,
   "metadata": {},
   "outputs": [
    {
     "data": {
      "text/plain": [
       "<matplotlib.collections.PathCollection at 0x1eeb94516d8>"
      ]
     },
     "execution_count": 145,
     "metadata": {},
     "output_type": "execute_result"
    },
    {
     "data": {
      "image/png": "[encoded data removed]",
      "text/plain": [
       "<Figure size 432x288 with 1 Axes>"
      ]
     },
     "metadata": {
      "needs_background": "light"
     },
     "output_type": "display_data"
    }
   ],
   "source": [
    "var1 = [2,3,4,5,6,7]\n",
    "var2 = [z*100, y*100, aa*100, w*100, v*100, vv*100]\n",
    "plt.scatter(var1, var2, s=500, c='r', alpha=0.5)"
   ]
  },
  {
   "cell_type": "code",
   "execution_count": null,
   "metadata": {},
   "outputs": [],
   "source": []
  }
 ],
 "metadata": {
  "kernelspec": {
   "display_name": "Python 3",
   "language": "python",
   "name": "python3"
  },
  "language_info": {
   "codemirror_mode": {
    "name": "ipython",
    "version": 3
   },
   "file_extension": ".py",
   "mimetype": "text/x-python",
   "name": "python",
   "nbconvert_exporter": "python",
   "pygments_lexer": "ipython3",
   "version": "3.7.0"
  }
 },
 "nbformat": 4,
 "nbformat_minor": 2
}
