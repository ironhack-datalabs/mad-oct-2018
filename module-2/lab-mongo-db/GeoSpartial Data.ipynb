{
 "cells": [
  {
   "cell_type": "code",
   "execution_count": 5,
   "metadata": {},
   "outputs": [],
   "source": [
    "from pymongo import MongoClient\n",
    "\n",
    "db = MongoClient('mongodb://localhost').companies"
   ]
  },
  {
   "cell_type": "code",
   "execution_count": 14,
   "metadata": {},
   "outputs": [
    {
     "data": {
      "text/plain": [
       "[{'_id': ObjectId('5bf68bf6747eb20896ed0b29'),\n",
       "  'name': 'BK Tetuan',\n",
       "  'location': {'type': 'Point', 'coordinates': [40.4299172, -3.7064414]}},\n",
       " {'_id': ObjectId('5bf68b84747eb20896ed0b28'),\n",
       "  'name': 'BK Aluche',\n",
       "  'location': {'type': 'Point', 'coordinates': [40.3827419, -3.7253703, '']}},\n",
       " {'_id': ObjectId('5bf68b0a747eb20896ed0b27'),\n",
       "  'name': 'BK Entrevias',\n",
       "  'location': {'type': 'Point', 'coordinates': [40.3827419, -3.7190189]}}]"
      ]
     },
     "execution_count": 14,
     "metadata": {},
     "output_type": "execute_result"
    }
   ],
   "source": [
    "def geoQueryNear(geoJsonField, lat, lng, distance=10000):\n",
    "    return {\n",
    "        geoJsonField: {\n",
    "            \"$near\": {\n",
    "                \"$geometry\": {\n",
    "                    \"type\": \"Point\", \n",
    "                    \"coordinates\": [lat, lng]\n",
    "                },\n",
    "                \"$maxDistance\":distance\n",
    "            }\n",
    "        }\n",
    "    }\n",
    "\n",
    "result = db.restaurants.find(geoQueryNear('location',40.4799741, -3.7360907, 100000))\n",
    "list(result)"
   ]
  },
  {
   "cell_type": "code",
   "execution_count": null,
   "metadata": {},
   "outputs": [],
   "source": []
  }
 ],
 "metadata": {
  "kernelspec": {
   "display_name": "Python 3",
   "language": "python",
   "name": "python3"
  },
  "language_info": {
   "codemirror_mode": {
    "name": "ipython",
    "version": 3
   },
   "file_extension": ".py",
   "mimetype": "text/x-python",
   "name": "python",
   "nbconvert_exporter": "python",
   "pygments_lexer": "ipython3",
   "version": "3.7.0"
  }
 },
 "nbformat": 4,
 "nbformat_minor": 2
}
