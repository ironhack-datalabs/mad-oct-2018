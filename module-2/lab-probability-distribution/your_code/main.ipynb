{
 "cells": [
  {
   "cell_type": "markdown",
   "metadata": {},
   "source": [
    "# Before your start:\n",
    "- Read the README.md file\n",
    "- Comment as much as you can and use the resources (README.md file)\n",
    "- Happy learning!"
   ]
  },
  {
   "cell_type": "code",
   "execution_count": 107,
   "metadata": {},
   "outputs": [],
   "source": [
    "# Import your libraries\n",
    "import pandas as pd\n",
    "import scipy.stats as sci\n",
    "import numpy as np\n",
    "import random\n",
    "import matplotlib.pyplot as plt\n",
    "import seaborn as sns\n",
    "\n",
    "# from scipy.stats import binom\n",
    "# from scipy.stats import geom\n",
    "# from scipy.stats import uniform"
   ]
  },
  {
   "cell_type": "markdown",
   "metadata": {},
   "source": [
    "# Challenge 1 - Generate and Plot Normal Distributions"
   ]
  },
  {
   "cell_type": "markdown",
   "metadata": {},
   "source": [
    "#### Step 1: Generate samples and test normal distribution\n",
    "\n",
    "Use mean=50, standard_deviation=5, and sample_size=[10, 50, 500, 5000] to generate 4 random samples that are normally distributed. Test your normal distributions with [`scipy.stats.normaltest`](https://docs.scipy.org/doc/scipy/reference/generated/scipy.stats.normaltest.html).\n",
    "\n",
    "\n",
    "*Hint: Read the documentation for `scipy.stats.normaltest`. The function does not simply return Yes or No for whether your data is normal distribution. It returns the likelihood.*"
   ]
  },
  {
   "cell_type": "code",
   "execution_count": 129,
   "metadata": {},
   "outputs": [
    {
     "name": "stdout",
     "output_type": "stream",
     "text": [
      "pvalue = 0.082585\n",
      "The sample is normally distributed\n"
     ]
    },
    {
     "data": {
      "text/plain": [
       "(array([6., 1., 0., 0., 1., 0., 0., 0., 1., 1.]),\n",
       " array([44.99269318, 46.17292145, 47.35314971, 48.53337798, 49.71360624,\n",
       "        50.89383451, 52.07406277, 53.25429104, 54.4345193 , 55.61474756,\n",
       "        56.79497583]),\n",
       " <a list of 10 Patch objects>)"
      ]
     },
     "execution_count": 129,
     "metadata": {},
     "output_type": "execute_result"
    },
    {
     "data": {
      "image/png": "[encoded data removed]",
      "text/plain": [
       "<Figure size 432x288 with 1 Axes>"
      ]
     },
     "metadata": {
      "needs_background": "light"
     },
     "output_type": "display_data"
    }
   ],
   "source": [
    "mean, sd, size = 50, 5, 10\n",
    "sample_10 = np.random.normal(mean, sd, size)\n",
    "\n",
    "statistic, pvalue = sci.stats.normaltest(sample_10)\n",
    "alpha = 0.05 # confidence of 5%\n",
    "print(\"pvalue = {:g}\".format(pvalue))\n",
    "\n",
    "if pvalue < alpha: # null hypothesis: sample is normally distributed\n",
    "    print(\"The sample is not a normal distribution \")\n",
    "else:\n",
    "    print(\"The sample is normally distributed\")\n",
    "\n",
    "plt.hist(sample_10)"
   ]
  },
  {
   "cell_type": "code",
   "execution_count": 127,
   "metadata": {},
   "outputs": [
    {
     "name": "stdout",
     "output_type": "stream",
     "text": [
      "pvalue = 0.280205\n",
      "The sample is normally distributed\n"
     ]
    },
    {
     "data": {
      "text/plain": [
       "(array([1., 7., 6., 9., 6., 6., 5., 6., 2., 2.]),\n",
       " array([39.75533748, 41.70860844, 43.66187939, 45.61515034, 47.56842129,\n",
       "        49.52169224, 51.47496319, 53.42823414, 55.38150509, 57.33477605,\n",
       "        59.288047  ]),\n",
       " <a list of 10 Patch objects>)"
      ]
     },
     "execution_count": 127,
     "metadata": {},
     "output_type": "execute_result"
    },
    {
     "data": {
      "image/png": "[encoded data removed]",
      "text/plain": [
       "<Figure size 432x288 with 1 Axes>"
      ]
     },
     "metadata": {
      "needs_background": "light"
     },
     "output_type": "display_data"
    }
   ],
   "source": [
    "mean, sd, size = 50, 5, 50\n",
    "sample_50 = np.random.normal(mean, sd, size)\n",
    "\n",
    "statistic, pvalue = sci.stats.normaltest(sample_50)\n",
    "alpha = 0.05 # confidence of 5%\n",
    "print(\"pvalue = {:g}\".format(pvalue))\n",
    "\n",
    "if pvalue < alpha: # null hypothesis: sample is normally distributed\n",
    "    print(\"The sample is not a normal distribution \")\n",
    "else:\n",
    "    print(\"The sample is normally distributed\")\n",
    "\n",
    "plt.hist(sample_50)"
   ]
  },
  {
   "cell_type": "code",
   "execution_count": 126,
   "metadata": {},
   "outputs": [
    {
     "name": "stdout",
     "output_type": "stream",
     "text": [
      "pvalue = 0.795781\n",
      "The sample is normally distributed\n"
     ]
    },
    {
     "data": {
      "text/plain": [
       "(array([ 10.,  29.,  62., 103., 126., 104.,  50.,  11.,   4.,   1.]),\n",
       " array([36.41396739, 39.62061325, 42.82725911, 46.03390496, 49.24055082,\n",
       "        52.44719668, 55.65384254, 58.86048839, 62.06713425, 65.27378011,\n",
       "        68.48042597]),\n",
       " <a list of 10 Patch objects>)"
      ]
     },
     "execution_count": 126,
     "metadata": {},
     "output_type": "execute_result"
    },
    {
     "data": {
      "image/png": "[encoded data removed]",
      "text/plain": [
       "<Figure size 432x288 with 1 Axes>"
      ]
     },
     "metadata": {
      "needs_background": "light"
     },
     "output_type": "display_data"
    }
   ],
   "source": [
    "mean, sd, size = 50, 5, 500\n",
    "sample_500 = np.random.normal(mean, sd, size)\n",
    "\n",
    "statistic, pvalue = sci.stats.normaltest(sample_500)\n",
    "alpha = 0.05 # confidence of 5%\n",
    "print(\"pvalue = {:g}\".format(pvalue))\n",
    "\n",
    "if pvalue < alpha: # null hypothesis: sample is normally distributed\n",
    "    print(\"The sample is not a normal distribution \")\n",
    "else:\n",
    "    print(\"The sample is normally distributed\")\n",
    "\n",
    "plt.hist(sample_500)"
   ]
  },
  {
   "cell_type": "code",
   "execution_count": 124,
   "metadata": {},
   "outputs": [
    {
     "name": "stdout",
     "output_type": "stream",
     "text": [
      "pvalue = 0.707041\n",
      "The sample is normally distributed\n"
     ]
    },
    {
     "data": {
      "text/plain": [
       "(array([   3.,   40.,  220.,  650., 1282., 1362.,  915.,  429.,   82.,\n",
       "          17.]),\n",
       " array([30.87667836, 34.53041565, 38.18415294, 41.83789023, 45.49162752,\n",
       "        49.14536481, 52.7991021 , 56.45283939, 60.10657667, 63.76031396,\n",
       "        67.41405125]),\n",
       " <a list of 10 Patch objects>)"
      ]
     },
     "execution_count": 124,
     "metadata": {},
     "output_type": "execute_result"
    },
    {
     "data": {
      "image/png": "[encoded data removed]",
      "text/plain": [
       "<Figure size 432x288 with 1 Axes>"
      ]
     },
     "metadata": {
      "needs_background": "light"
     },
     "output_type": "display_data"
    }
   ],
   "source": [
    "mean, sd, size = 50, 5, 5000\n",
    "sample_5000 = np.random.normal(mean, sd, size)\n",
    "\n",
    "statistic, pvalue = sci.stats.normaltest(sample_5000)\n",
    "alpha = 0.05 # confidence of 5%\n",
    "print(\"pvalue = {:g}\".format(pvalue))\n",
    "\n",
    "if pvalue < alpha: # null hypothesis: sample is normally distributed\n",
    "    print(\"The sample is not a normal distribution \")\n",
    "else:\n",
    "    print(\"The sample is normally distributed\")\n",
    "\n",
    "plt.hist(sample_5000)"
   ]
  },
  {
   "cell_type": "markdown",
   "metadata": {},
   "source": [
    "#### Interpret the normaltest results and make your observations.\n",
    "- I created the histograms to have a more visual representation of the results\n",
    "- I learned that as the sample size increases, the sampel test looks more and more as a normal distribution"
   ]
  },
  {
   "cell_type": "markdown",
   "metadata": {},
   "source": [
    "#### Step 2: Plot normal distributions\n",
    "\n",
    "Use matplotlib subplots to plot a histogram of each sample. \n",
    "\n",
    "*Hints:*\n",
    "- Use subplots to compare your figures side by side.\n",
    "\n",
    "- Your output should look like below:\n",
    "\n",
    "![normal distributions with different sample sizes](ch-1.png)"
   ]
  },
  {
   "cell_type": "code",
   "execution_count": 140,
   "metadata": {},
   "outputs": [
    {
     "data": {
      "text/plain": [
       "<matplotlib.axes._subplots.AxesSubplot at 0x127aa9a90>"
      ]
     },
     "execution_count": 140,
     "metadata": {},
     "output_type": "execute_result"
    },
    {
     "data": {
      "image/png": "[encoded data removed]",
      "text/plain": [
       "<Figure size 864x432 with 4 Axes>"
      ]
     },
     "metadata": {
      "needs_background": "light"
     },
     "output_type": "display_data"
    }
   ],
   "source": [
    "fig, ax = plt.subplots(1,4,figsize=(12,6))\n",
    "sns.distplot(sample_10, bins=5, kde=False, ax=ax[0])\n",
    "sns.distplot(sample_50, bins=50, kde=False,ax=ax[1])\n",
    "sns.distplot(sample_500, bins=100, kde=False,ax=ax[2])\n",
    "sns.distplot(sample_5000, bins=1000, kde=False,ax=ax[3])"
   ]
  },
  {
   "cell_type": "markdown",
   "metadata": {},
   "source": [
    "#### Compare the distributions above. What do you observe? Explain with the Central Limit Theorem.\n",
    "- That as more independent random variables are added, the normalized sum tends to look more and more as a normal distribution, even if the original variables themselves are not normally distributed"
   ]
  },
  {
   "cell_type": "markdown",
   "metadata": {},
   "source": [
    "# Challenge 2 - Plot Probability Mass Function (PMF)"
   ]
  },
  {
   "cell_type": "markdown",
   "metadata": {},
   "source": [
    "#### Background knowledge\n",
    "\n",
    "[PMF](https://en.wikipedia.org/wiki/Probability_mass_function) shows the probability distribution of a **discrete random variable**. A [discrete random variable](https://en.wikipedia.org/wiki/Random_variable#Discrete_random_variable) has random numeric values that are not continuous. For example, the number of people in a household can only be integers but not floats. Therefore the number of people in a household is a discrete variable.\n",
    "\n",
    "#### Question: We assume that the probability of clicking an Ad in a Youtube video is 0.15. We have a sample of 5 people who wathched the video and we want to plot the PMF for a binomial distribution.\n",
    "\n",
    "*Hint: use binom from `scipy.stats.binom`. Your output should look like below:*\n",
    "\n",
    "![binom 10](ch-2.png)"
   ]
  },
  {
   "cell_type": "code",
   "execution_count": 186,
   "metadata": {},
   "outputs": [
    {
     "data": {
      "text/plain": [
       "Text(0.5, 1.0, 'n=5')"
      ]
     },
     "execution_count": 186,
     "metadata": {},
     "output_type": "execute_result"
    },
    {
     "data": {
      "image/png": "[encoded data removed]",
      "text/plain": [
       "<Figure size 432x288 with 1 Axes>"
      ]
     },
     "metadata": {
      "needs_background": "light"
     },
     "output_type": "display_data"
    }
   ],
   "source": [
    "p, n, k = 0.15, 5, range(0,n+1)\n",
    "binomial_dist = sci.binom.pmf(k, n, p)\n",
    "plt.plot(k, binomial_dist)\n",
    "\n",
    "plt.xlabel('number of people')\n",
    "plt.ylabel('probability')\n",
    "plt.title('n=5')"
   ]
  },
  {
   "cell_type": "markdown",
   "metadata": {},
   "source": [
    "#### Explain what you observe from the plot above\n",
    "- As the number of visitors increases, the probability of all of them clicking decreases"
   ]
  },
  {
   "cell_type": "markdown",
   "metadata": {},
   "source": [
    "#### Now plot PMP with 50, 500, and 5000 visitors."
   ]
  },
  {
   "cell_type": "code",
   "execution_count": 188,
   "metadata": {},
   "outputs": [
    {
     "data": {
      "text/plain": [
       "Text(0.5, 1.0, 'n = 5000')"
      ]
     },
     "execution_count": 188,
     "metadata": {},
     "output_type": "execute_result"
    },
    {
     "data": {
      "image/png": "[encoded data removed]",
      "text/plain": [
       "<Figure size 864x360 with 3 Axes>"
      ]
     },
     "metadata": {
      "needs_background": "light"
     },
     "output_type": "display_data"
    }
   ],
   "source": [
    "p = 0.15\n",
    "n_50 = 50\n",
    "k_50 = range(0,n_50+1)\n",
    "n_500 = 500\n",
    "k_500 = range(0,n_500+1)\n",
    "n_5000 = 5000\n",
    "k_5000 = range(0,n_5000+1)\n",
    "\n",
    "binomial_dist_50 = sci.binom.pmf(k_50, n_50, p)\n",
    "binomial_dist_500 = sci.binom.pmf(k_500, n_500, p)\n",
    "binomial_dist_5000 = sci.binom.pmf(k_5000, n_5000, p)\n",
    "\n",
    "fig, ax = plt.subplots(1,3, figsize=(12,5))\n",
    "\n",
    "ax[0].plot(k_50, binomial_dist_50)\n",
    "ax[0].set_xlabel('number of people')\n",
    "ax[0].set_ylabel('probability')\n",
    "ax[0].set_title('n = 50')\n",
    "\n",
    "ax[1].plot(k_500, binomial_dist_500)\n",
    "ax[1].set_xlabel('number of people')\n",
    "ax[1].set_ylabel('probability')\n",
    "ax[1].set_title('n = 500')\n",
    "\n",
    "ax[2].plot(k_5000, binomial_dist_5000)\n",
    "ax[2].set_xlabel('number of people')\n",
    "ax[2].set_ylabel('probability')\n",
    "ax[2].set_title('n = 5000')"
   ]
  },
  {
   "cell_type": "markdown",
   "metadata": {},
   "source": [
    "#### What did you notice from the distribution plots? Comment your findings.\n",
    "- As the number of visitors increases, the probability of them clicking becomes close to zero"
   ]
  },
  {
   "cell_type": "markdown",
   "metadata": {},
   "source": [
    "# Challenge 3"
   ]
  },
  {
   "cell_type": "markdown",
   "metadata": {},
   "source": [
    "#### Reaserch the Poisson distribution. Write about your own understanding of the Poisson distribution."
   ]
  },
  {
   "cell_type": "code",
   "execution_count": null,
   "metadata": {},
   "outputs": [],
   "source": [
    "# Your comment here"
   ]
  },
  {
   "cell_type": "markdown",
   "metadata": {},
   "source": [
    "#### A website has an average of 300 visits per day. What is the probability of getting 320 visitors in a day?\n",
    "\n",
    "*Hint: use `scipy.stats.poisson`*"
   ]
  },
  {
   "cell_type": "code",
   "execution_count": null,
   "metadata": {},
   "outputs": [],
   "source": [
    "# Your code here"
   ]
  },
  {
   "cell_type": "markdown",
   "metadata": {},
   "source": [
    "#### What is the probability of getting 60 visits?"
   ]
  },
  {
   "cell_type": "code",
   "execution_count": null,
   "metadata": {},
   "outputs": [],
   "source": [
    "# Your code here"
   ]
  },
  {
   "cell_type": "markdown",
   "metadata": {},
   "source": [
    "#### Plot the distribution of the probability for getting 0-1000 visits.\n",
    "\n",
    "*Hints:* \n",
    "\n",
    "- Create a list to store the Poisson distribution probabilities for n=0 to 1000. Then plot the probabilities.\n",
    "\n",
    "- Your plot should look like below:\n",
    "\n",
    "![poisson distribution](ch-3.png)"
   ]
  },
  {
   "cell_type": "code",
   "execution_count": null,
   "metadata": {},
   "outputs": [],
   "source": [
    "# your code here\n"
   ]
  },
  {
   "cell_type": "markdown",
   "metadata": {},
   "source": [
    "# NOTES"
   ]
  },
  {
   "cell_type": "code",
   "execution_count": 2,
   "metadata": {},
   "outputs": [
    {
     "name": "stdout",
     "output_type": "stream",
     "text": [
      "0.5\n"
     ]
    }
   ],
   "source": [
    "def even(x):\n",
    "    return(x % 2 == 0)\n",
    "sample_space = [1, 2, 3, 4, 5, 6]\n",
    "die_sides = len(sample_space)\n",
    "even_roll = len([x for x in sample_space if even(x)])\n",
    "even_probability = even_roll / die_sides\n",
    "print(even_probability)"
   ]
  },
  {
   "cell_type": "code",
   "execution_count": 3,
   "metadata": {},
   "outputs": [
    {
     "name": "stdout",
     "output_type": "stream",
     "text": [
      "{1, 3, 5, 6}\n",
      "{5}\n"
     ]
    }
   ],
   "source": [
    "a = set([1, 3, 5])\n",
    "b = set([5, 6])\n",
    "print(a.union(b))\n",
    "print(a.intersection(b))"
   ]
  },
  {
   "cell_type": "code",
   "execution_count": 4,
   "metadata": {},
   "outputs": [
    {
     "data": {
      "text/plain": [
       "0.10291934520000007"
      ]
     },
     "execution_count": 4,
     "metadata": {},
     "output_type": "execute_result"
    }
   ],
   "source": [
    "# binomial distribution - k successes with n trials (k successes, n trials, probability)\n",
    "sci.binom.pmf(5, 10, 0.3)"
   ]
  },
  {
   "cell_type": "code",
   "execution_count": 5,
   "metadata": {},
   "outputs": [
    {
     "data": {
      "text/plain": [
       "0.005670000000000003"
      ]
     },
     "execution_count": 5,
     "metadata": {},
     "output_type": "execute_result"
    }
   ],
   "source": [
    "# geometric distribution - probability of success after n trials (n trials, p success)\n",
    "sci.geom.pmf(5, 0.7)"
   ]
  },
  {
   "cell_type": "code",
   "execution_count": 6,
   "metadata": {},
   "outputs": [
    {
     "data": {
      "text/plain": [
       "0.5"
      ]
     },
     "execution_count": 6,
     "metadata": {},
     "output_type": "execute_result"
    }
   ],
   "source": [
    "# continuos uniform distribution - we use the cummulative distribution formula - (ending point in range, starting point in range, lenght range)\n",
    "sci.uniform.cdf(15, 10, 10)"
   ]
  },
  {
   "cell_type": "code",
   "execution_count": 8,
   "metadata": {},
   "outputs": [
    {
     "data": {
      "text/plain": [
       "0.5"
      ]
     },
     "execution_count": 8,
     "metadata": {},
     "output_type": "execute_result"
    }
   ],
   "source": [
    "# normal distribution - we use the cummulative distribution formula - (value we want the p for, mean, sd)\n",
    "sci.norm.cdf(0, 0, 1)"
   ]
  }
 ],
 "metadata": {
  "anaconda-cloud": {},
  "kernelspec": {
   "display_name": "Python 3",
   "language": "python",
   "name": "python3"
  },
  "language_info": {
   "codemirror_mode": {
    "name": "ipython",
    "version": 3
   },
   "file_extension": ".py",
   "mimetype": "text/x-python",
   "name": "python",
   "nbconvert_exporter": "python",
   "pygments_lexer": "ipython3",
   "version": "3.7.0"
  }
 },
 "nbformat": 4,
 "nbformat_minor": 1
}
