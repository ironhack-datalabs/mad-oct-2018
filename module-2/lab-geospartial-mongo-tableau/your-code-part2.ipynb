{
 "cells": [
  {
   "cell_type": "markdown",
   "metadata": {},
   "source": [
    "# Lab Geospartial Mongo Tableau"
   ]
  },
  {
   "cell_type": "markdown",
   "metadata": {},
   "source": [
    "### Import Libraries"
   ]
  },
  {
   "cell_type": "code",
   "execution_count": null,
   "metadata": {},
   "outputs": [],
   "source": [
    "import pandas as pd\n",
    "import pymongo as py\n",
    "from pandas.io.json import json_normalize\n",
    "import geojson\n",
    "from geojson import Point, Feature, FeatureCollection, dump"
   ]
  },
  {
   "cell_type": "markdown",
   "metadata": {},
   "source": [
    "### Question 3\n",
    "1. Query the newly created collection geospatially using $near operator and for each company calculate the nearest companies with radius R meters. Use R=100, R=1000 and R=10000\n",
    "2. For each company sum the results of the nearest companies and save all results in a JSON file containing an array with the following format: \n",
    "```\n",
    "[ \n",
    "    {\n",
    "        id: XXXX\n",
    "        name: <company_name>, \n",
    "        office_location:<geojson_point_office_location>,\n",
    "        nearest_workers:{ \n",
    "            “r=100”:9999,\n",
    "            “r=1000”:9999,\n",
    "            “r=10000”:9999,\n",
    "        }\n",
    "    },\n",
    "    {…},\n",
    "    {...}\n",
    "]\n",
    "```"
   ]
  },
  {
   "cell_type": "markdown",
   "metadata": {},
   "source": [
    "### Question 4 and 5 \n",
    "4. Using the created json file, add it to tableau and create 3 sheets using geospartial plot.\n",
    "5. Create a tableau story and present the results you’ve found"
   ]
  },
  {
   "cell_type": "code",
   "execution_count": null,
   "metadata": {},
   "outputs": [],
   "source": []
  }
 ],
 "metadata": {
  "kernelspec": {
   "display_name": "Python 3",
   "language": "python",
   "name": "python3"
  },
  "language_info": {
   "codemirror_mode": {
    "name": "ipython",
    "version": 3
   },
   "file_extension": ".py",
   "mimetype": "text/x-python",
   "name": "python",
   "nbconvert_exporter": "python",
   "pygments_lexer": "ipython3",
   "version": "3.7.0"
  }
 },
 "nbformat": 4,
 "nbformat_minor": 2
}
